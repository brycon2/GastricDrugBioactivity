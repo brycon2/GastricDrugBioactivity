{
  "cells": [
    {
      "cell_type": "markdown",
      "metadata": {
        "id": "sf2BFSo5FxDn"
      },
      "source": [
        "# Gastric H(+)/K(+) ATPase  Activity\n",
        "\n",
        "Note: this notebook was built in Google Colab so it is optimized for such use.\n"
      ]
    },
    {
      "cell_type": "markdown",
      "metadata": {
        "id": "Oc2xoq-xc67e"
      },
      "source": [
        "## Abstract\n",
        "\n",
        "### Introduction\n",
        "\n",
        "With gastroparesis, a condition that can cause significant acid reflux, the only option is to treat the stomach acidity to lessen tissue damage and not the disease itself. To do this, gastric H,K-ATPase, the protein that is primarily responsible for making stomach bile acidic, must be inhibited to lessen the damage any aspirate may do to the rest of the body. One way to find potentially effective compounds is through creating a machine learning mdoel that can predict the inhibitive effect of chemical compounds.\n",
        "\n",
        "### Methods\n",
        "\n",
        "236 known inhibitors of gastric H,K-ATPase were drawn from the ChemBL database, including measured IC50 values and molecular information. Each inhibitor was placed through the PaDEL descriptor software to gather 881 descriptors for each molecule, then descriptors with low variance($ < 20\\% $) were removed. The remaining dataset, with its 121 features, was pushed through lazypredict to find the highest performing regression model. This model was then hyperparameterized with GridSearchCV.\n",
        "\n",
        "### Results\n",
        "\n",
        "Scikit-learn's k-nearest neighbors regression model was the best performming model with a default $r^2$ values of 0.56 and a hyperparameterized $r^2$ value of 0.59 with a mean absolute error percantage of 22.4%. The issues with this model can primarily be placed at the feet of the relatively low number of samples compared to features, causing a relatively high amount of variability in the model. More experiments with separate drug molecules are needed to create a model \n",
        "\n",
        "### Next Steps\n",
        "\n",
        "The next step is to deploy the trained LGBMRegressor model so other prospective models can be tested. When completed, a link can be found >here<. \n"
      ]
    },
    {
      "cell_type": "markdown",
      "metadata": {
        "id": "8Yh3FNx4XN5_"
      },
      "source": [
        "## Introduction\n",
        "\n",
        "### Project Context\n",
        "\n",
        "In cases where patients suffer from severe gastroparesis (delayed gastric emptying), patients may aspirate significantly and cause damage to their soft tissues, most crucially their lungs. As there are no commercial options for curing gastroparesis, one potential way to help patients with their symptoms is by making their aspirate less acidic. As stomach bile is made acidic through the gastric H/K ATPase proton pump, this is the ideal target for inhibitors. \n",
        "\n",
        "The purpose of this project is to investigate how various machine learning models can be used to look for potentially effective drugs. \n",
        "\n",
        "### Personal Context\n",
        "\n",
        "I decided to do this project as a way to showcase personal knowledge and ability. I specifically decided to do gastric H/K ATPase as I worked on a senior design project on creating devices that limits aspiration in patients with gastroparesis, so I am aware of the clinical relevance of this project. Inspiration for performing a computational drug discovery project comes from Chanin Nantasenamat, who runs a YouTube channel titled the 'Data Professor'. "
      ]
    },
    {
      "cell_type": "markdown",
      "metadata": {
        "id": "zI1k13xtLIJf"
      },
      "source": [
        "## Methods\n",
        "\n",
        "The overall gameplan is the following:\n",
        "1. Download and augment the data as needed\n",
        "2. Perform exploratory analysis of the data\n",
        "3. Investigate various models\n",
        "4. Hyperparameterize the best performing model\n",
        "5. If the best performming mdoel is not a decision tree, attempt to hyperparameterize that. \n"
      ]
    },
    {
      "cell_type": "markdown",
      "metadata": {
        "id": "Df7k_MTUGCrV"
      },
      "source": [
        "### Acquiring Molecular Bioactivity Data\n",
        "\n",
        "To get the necessary bioactivity data, we will need access to [ChEMBL](https://www.ebi.ac.uk/chembl/). ChEMBL is a database run by the European Molecular Biology Laboratory that holds the chemical, bioactivity, and genomic information for bioactive molecules with drug-like properties. We can interact with it using the [chembl_webresource_client](https://www.ncbi.nlm.nih.gov/pmc/articles/PMC4489243/), which we will need to pip install. "
      ]
    },
    {
      "cell_type": "code",
      "execution_count": null,
      "metadata": {
        "colab": {
          "base_uri": "https://localhost:8080/"
        },
        "id": "7YVoeZApApYJ",
        "outputId": "20217794-9126-44af-eb56-b3a0d42dfe34"
      },
      "outputs": [
        {
          "name": "stdout",
          "output_type": "stream",
          "text": [
            "Looking in indexes: https://pypi.org/simple, https://us-python.pkg.dev/colab-wheels/public/simple/\n",
            "Requirement already satisfied: chembl_webresource_client in /usr/local/lib/python3.7/dist-packages (0.10.8)\n",
            "Requirement already satisfied: requests-cache~=0.7.0 in /usr/local/lib/python3.7/dist-packages (from chembl_webresource_client) (0.7.5)\n",
            "Requirement already satisfied: easydict in /usr/local/lib/python3.7/dist-packages (from chembl_webresource_client) (1.9)\n",
            "Requirement already satisfied: requests>=2.18.4 in /usr/local/lib/python3.7/dist-packages (from chembl_webresource_client) (2.23.0)\n",
            "Requirement already satisfied: urllib3 in /usr/local/lib/python3.7/dist-packages (from chembl_webresource_client) (1.24.3)\n",
            "Requirement already satisfied: chardet<4,>=3.0.2 in /usr/local/lib/python3.7/dist-packages (from requests>=2.18.4->chembl_webresource_client) (3.0.4)\n",
            "Requirement already satisfied: idna<3,>=2.5 in /usr/local/lib/python3.7/dist-packages (from requests>=2.18.4->chembl_webresource_client) (2.10)\n",
            "Requirement already satisfied: certifi>=2017.4.17 in /usr/local/lib/python3.7/dist-packages (from requests>=2.18.4->chembl_webresource_client) (2022.6.15)\n",
            "Requirement already satisfied: itsdangerous>=2.0.1 in /usr/local/lib/python3.7/dist-packages (from requests-cache~=0.7.0->chembl_webresource_client) (2.1.2)\n",
            "Requirement already satisfied: attrs<22.0,>=21.2 in /usr/local/lib/python3.7/dist-packages (from requests-cache~=0.7.0->chembl_webresource_client) (21.4.0)\n",
            "Requirement already satisfied: pyyaml>=5.4 in /usr/local/lib/python3.7/dist-packages (from requests-cache~=0.7.0->chembl_webresource_client) (6.0)\n",
            "Requirement already satisfied: url-normalize<2.0,>=1.4 in /usr/local/lib/python3.7/dist-packages (from requests-cache~=0.7.0->chembl_webresource_client) (1.4.3)\n",
            "Requirement already satisfied: six in /usr/local/lib/python3.7/dist-packages (from url-normalize<2.0,>=1.4->requests-cache~=0.7.0->chembl_webresource_client) (1.15.0)\n"
          ]
        }
      ],
      "source": [
        "! pip install chembl_webresource_client"
      ]
    },
    {
      "cell_type": "markdown",
      "metadata": {
        "id": "kOi2CCWFHyj_"
      },
      "source": [
        "For the first part of this notebook, we will need to interact with ChEMBL as a dataframe, requiring the need to import pandas and numpy in conjunction with the recently pip-installed chembl_webresource_client. "
      ]
    },
    {
      "cell_type": "code",
      "execution_count": null,
      "metadata": {
        "id": "rHX6ohPUH6I7"
      },
      "outputs": [],
      "source": [
        "# importing libraries\n",
        "import pandas as pd\n",
        "import numpy as np\n",
        "from chembl_webresource_client.new_client import new_client"
      ]
    },
    {
      "cell_type": "markdown",
      "metadata": {
        "id": "HJHDtTW-IenV"
      },
      "source": [
        "With the necessary libraries imported, we can move to the next step in acquiring the data for gastric H/K ATPase from ChEMBL. This protein pump has the id [CHEMBL2095173](https://www.ebi.ac.uk/chembl/target_report_card/CHEMBL2095173/). With this information, we can download the $IC_{50}$ values of gastric H/K ATPase when inhibited by various drugs. This data is an analgamation of different sets of experimental data all tested on the same tissue with the same criteria/rules, but ChEMBL is nice enough to save the data for public use. For those who do not know what $IC_{50}$ is, it is the amount of a drug/molecule necessary to inhibit a biological process by 50%, typically expressed in moles of drug or molar concentration of drug. The data we are investigating is completely in micromoles."
      ]
    },
    {
      "cell_type": "code",
      "execution_count": null,
      "metadata": {
        "id": "jQM-r815IpEU"
      },
      "outputs": [],
      "source": [
        "# go into the ChEMBL database, use CHEMBLID to find protein, and get IC50 values\n",
        "target = new_client.target\n",
        "chembl_id = 'CHEMBL2095173'\n",
        "protein_activity = new_client.activity\n",
        "res = protein_activity.filter(target_chembl_id = chembl_id).filter(type = 'IC50')"
      ]
    },
    {
      "cell_type": "code",
      "execution_count": null,
      "metadata": {
        "colab": {
          "base_uri": "https://localhost:8080/",
          "height": 835
        },
        "id": "nobDNIJoMED-",
        "outputId": "abdc279a-ae29-4b3a-bd02-e6c2b3b22c2f"
      },
      "outputs": [
        {
          "data": {
            "text/html": [
              "\n",
              "  <div id=\"df-064da706-7de2-4577-943e-674a64f3f719\">\n",
              "    <div class=\"colab-df-container\">\n",
              "      <div>\n",
              "<style scoped>\n",
              "    .dataframe tbody tr th:only-of-type {\n",
              "        vertical-align: middle;\n",
              "    }\n",
              "\n",
              "    .dataframe tbody tr th {\n",
              "        vertical-align: top;\n",
              "    }\n",
              "\n",
              "    .dataframe thead th {\n",
              "        text-align: right;\n",
              "    }\n",
              "</style>\n",
              "<table border=\"1\" class=\"dataframe\">\n",
              "  <thead>\n",
              "    <tr style=\"text-align: right;\">\n",
              "      <th></th>\n",
              "      <th>activity_comment</th>\n",
              "      <th>activity_id</th>\n",
              "      <th>activity_properties</th>\n",
              "      <th>assay_chembl_id</th>\n",
              "      <th>assay_description</th>\n",
              "      <th>assay_type</th>\n",
              "      <th>assay_variant_accession</th>\n",
              "      <th>assay_variant_mutation</th>\n",
              "      <th>bao_endpoint</th>\n",
              "      <th>bao_format</th>\n",
              "      <th>...</th>\n",
              "      <th>target_organism</th>\n",
              "      <th>target_pref_name</th>\n",
              "      <th>target_tax_id</th>\n",
              "      <th>text_value</th>\n",
              "      <th>toid</th>\n",
              "      <th>type</th>\n",
              "      <th>units</th>\n",
              "      <th>uo_units</th>\n",
              "      <th>upper_value</th>\n",
              "      <th>value</th>\n",
              "    </tr>\n",
              "  </thead>\n",
              "  <tbody>\n",
              "    <tr>\n",
              "      <th>0</th>\n",
              "      <td>None</td>\n",
              "      <td>185453</td>\n",
              "      <td>[]</td>\n",
              "      <td>CHEMBL690673</td>\n",
              "      <td>Inhibition of H+/K+ ATPase activity in buffere...</td>\n",
              "      <td>B</td>\n",
              "      <td>None</td>\n",
              "      <td>None</td>\n",
              "      <td>BAO_0000190</td>\n",
              "      <td>BAO_0000223</td>\n",
              "      <td>...</td>\n",
              "      <td>Homo sapiens</td>\n",
              "      <td>Potassium-transporting ATPase</td>\n",
              "      <td>9606</td>\n",
              "      <td>None</td>\n",
              "      <td>None</td>\n",
              "      <td>IC50</td>\n",
              "      <td>uM</td>\n",
              "      <td>UO_0000065</td>\n",
              "      <td>None</td>\n",
              "      <td>98.0</td>\n",
              "    </tr>\n",
              "    <tr>\n",
              "      <th>1</th>\n",
              "      <td>None</td>\n",
              "      <td>196324</td>\n",
              "      <td>[]</td>\n",
              "      <td>CHEMBL690673</td>\n",
              "      <td>Inhibition of H+/K+ ATPase activity in buffere...</td>\n",
              "      <td>B</td>\n",
              "      <td>None</td>\n",
              "      <td>None</td>\n",
              "      <td>BAO_0000190</td>\n",
              "      <td>BAO_0000223</td>\n",
              "      <td>...</td>\n",
              "      <td>Homo sapiens</td>\n",
              "      <td>Potassium-transporting ATPase</td>\n",
              "      <td>9606</td>\n",
              "      <td>None</td>\n",
              "      <td>None</td>\n",
              "      <td>IC50</td>\n",
              "      <td>uM</td>\n",
              "      <td>UO_0000065</td>\n",
              "      <td>None</td>\n",
              "      <td>100.0</td>\n",
              "    </tr>\n",
              "    <tr>\n",
              "      <th>2</th>\n",
              "      <td>None</td>\n",
              "      <td>205980</td>\n",
              "      <td>[]</td>\n",
              "      <td>CHEMBL690673</td>\n",
              "      <td>Inhibition of H+/K+ ATPase activity in buffere...</td>\n",
              "      <td>B</td>\n",
              "      <td>None</td>\n",
              "      <td>None</td>\n",
              "      <td>BAO_0000190</td>\n",
              "      <td>BAO_0000223</td>\n",
              "      <td>...</td>\n",
              "      <td>Homo sapiens</td>\n",
              "      <td>Potassium-transporting ATPase</td>\n",
              "      <td>9606</td>\n",
              "      <td>None</td>\n",
              "      <td>None</td>\n",
              "      <td>IC50</td>\n",
              "      <td>uM</td>\n",
              "      <td>UO_0000065</td>\n",
              "      <td>None</td>\n",
              "      <td>100.0</td>\n",
              "    </tr>\n",
              "    <tr>\n",
              "      <th>3</th>\n",
              "      <td>None</td>\n",
              "      <td>213023</td>\n",
              "      <td>[]</td>\n",
              "      <td>CHEMBL690673</td>\n",
              "      <td>Inhibition of H+/K+ ATPase activity in buffere...</td>\n",
              "      <td>B</td>\n",
              "      <td>None</td>\n",
              "      <td>None</td>\n",
              "      <td>BAO_0000190</td>\n",
              "      <td>BAO_0000223</td>\n",
              "      <td>...</td>\n",
              "      <td>Homo sapiens</td>\n",
              "      <td>Potassium-transporting ATPase</td>\n",
              "      <td>9606</td>\n",
              "      <td>None</td>\n",
              "      <td>None</td>\n",
              "      <td>IC50</td>\n",
              "      <td>uM</td>\n",
              "      <td>UO_0000065</td>\n",
              "      <td>None</td>\n",
              "      <td>33.0</td>\n",
              "    </tr>\n",
              "    <tr>\n",
              "      <th>4</th>\n",
              "      <td>None</td>\n",
              "      <td>216494</td>\n",
              "      <td>[]</td>\n",
              "      <td>CHEMBL690673</td>\n",
              "      <td>Inhibition of H+/K+ ATPase activity in buffere...</td>\n",
              "      <td>B</td>\n",
              "      <td>None</td>\n",
              "      <td>None</td>\n",
              "      <td>BAO_0000190</td>\n",
              "      <td>BAO_0000223</td>\n",
              "      <td>...</td>\n",
              "      <td>Homo sapiens</td>\n",
              "      <td>Potassium-transporting ATPase</td>\n",
              "      <td>9606</td>\n",
              "      <td>None</td>\n",
              "      <td>None</td>\n",
              "      <td>IC50</td>\n",
              "      <td>uM</td>\n",
              "      <td>UO_0000065</td>\n",
              "      <td>None</td>\n",
              "      <td>24.0</td>\n",
              "    </tr>\n",
              "    <tr>\n",
              "      <th>...</th>\n",
              "      <td>...</td>\n",
              "      <td>...</td>\n",
              "      <td>...</td>\n",
              "      <td>...</td>\n",
              "      <td>...</td>\n",
              "      <td>...</td>\n",
              "      <td>...</td>\n",
              "      <td>...</td>\n",
              "      <td>...</td>\n",
              "      <td>...</td>\n",
              "      <td>...</td>\n",
              "      <td>...</td>\n",
              "      <td>...</td>\n",
              "      <td>...</td>\n",
              "      <td>...</td>\n",
              "      <td>...</td>\n",
              "      <td>...</td>\n",
              "      <td>...</td>\n",
              "      <td>...</td>\n",
              "      <td>...</td>\n",
              "      <td>...</td>\n",
              "    </tr>\n",
              "    <tr>\n",
              "      <th>296</th>\n",
              "      <td>None</td>\n",
              "      <td>1253722</td>\n",
              "      <td>[]</td>\n",
              "      <td>CHEMBL686816</td>\n",
              "      <td>Compound was tested in vitro for H+/K+ ATPase ...</td>\n",
              "      <td>B</td>\n",
              "      <td>None</td>\n",
              "      <td>None</td>\n",
              "      <td>BAO_0000190</td>\n",
              "      <td>BAO_0000221</td>\n",
              "      <td>...</td>\n",
              "      <td>Homo sapiens</td>\n",
              "      <td>Potassium-transporting ATPase</td>\n",
              "      <td>9606</td>\n",
              "      <td>None</td>\n",
              "      <td>None</td>\n",
              "      <td>IC50</td>\n",
              "      <td>uM</td>\n",
              "      <td>UO_0000065</td>\n",
              "      <td>None</td>\n",
              "      <td>100.0</td>\n",
              "    </tr>\n",
              "    <tr>\n",
              "      <th>297</th>\n",
              "      <td>None</td>\n",
              "      <td>1256438</td>\n",
              "      <td>[]</td>\n",
              "      <td>CHEMBL686816</td>\n",
              "      <td>Compound was tested in vitro for H+/K+ ATPase ...</td>\n",
              "      <td>B</td>\n",
              "      <td>None</td>\n",
              "      <td>None</td>\n",
              "      <td>BAO_0000190</td>\n",
              "      <td>BAO_0000221</td>\n",
              "      <td>...</td>\n",
              "      <td>Homo sapiens</td>\n",
              "      <td>Potassium-transporting ATPase</td>\n",
              "      <td>9606</td>\n",
              "      <td>None</td>\n",
              "      <td>None</td>\n",
              "      <td>IC50</td>\n",
              "      <td>uM</td>\n",
              "      <td>UO_0000065</td>\n",
              "      <td>None</td>\n",
              "      <td>4.8</td>\n",
              "    </tr>\n",
              "    <tr>\n",
              "      <th>298</th>\n",
              "      <td>None</td>\n",
              "      <td>1258991</td>\n",
              "      <td>[]</td>\n",
              "      <td>CHEMBL686816</td>\n",
              "      <td>Compound was tested in vitro for H+/K+ ATPase ...</td>\n",
              "      <td>B</td>\n",
              "      <td>None</td>\n",
              "      <td>None</td>\n",
              "      <td>BAO_0000190</td>\n",
              "      <td>BAO_0000221</td>\n",
              "      <td>...</td>\n",
              "      <td>Homo sapiens</td>\n",
              "      <td>Potassium-transporting ATPase</td>\n",
              "      <td>9606</td>\n",
              "      <td>None</td>\n",
              "      <td>None</td>\n",
              "      <td>IC50</td>\n",
              "      <td>uM</td>\n",
              "      <td>UO_0000065</td>\n",
              "      <td>None</td>\n",
              "      <td>100.0</td>\n",
              "    </tr>\n",
              "    <tr>\n",
              "      <th>299</th>\n",
              "      <td>None</td>\n",
              "      <td>1258993</td>\n",
              "      <td>[]</td>\n",
              "      <td>CHEMBL686816</td>\n",
              "      <td>Compound was tested in vitro for H+/K+ ATPase ...</td>\n",
              "      <td>B</td>\n",
              "      <td>None</td>\n",
              "      <td>None</td>\n",
              "      <td>BAO_0000190</td>\n",
              "      <td>BAO_0000221</td>\n",
              "      <td>...</td>\n",
              "      <td>Homo sapiens</td>\n",
              "      <td>Potassium-transporting ATPase</td>\n",
              "      <td>9606</td>\n",
              "      <td>None</td>\n",
              "      <td>None</td>\n",
              "      <td>IC50</td>\n",
              "      <td>uM</td>\n",
              "      <td>UO_0000065</td>\n",
              "      <td>None</td>\n",
              "      <td>14.0</td>\n",
              "    </tr>\n",
              "    <tr>\n",
              "      <th>300</th>\n",
              "      <td>None</td>\n",
              "      <td>1263907</td>\n",
              "      <td>[]</td>\n",
              "      <td>CHEMBL686816</td>\n",
              "      <td>Compound was tested in vitro for H+/K+ ATPase ...</td>\n",
              "      <td>B</td>\n",
              "      <td>None</td>\n",
              "      <td>None</td>\n",
              "      <td>BAO_0000190</td>\n",
              "      <td>BAO_0000221</td>\n",
              "      <td>...</td>\n",
              "      <td>Homo sapiens</td>\n",
              "      <td>Potassium-transporting ATPase</td>\n",
              "      <td>9606</td>\n",
              "      <td>None</td>\n",
              "      <td>None</td>\n",
              "      <td>IC50</td>\n",
              "      <td>uM</td>\n",
              "      <td>UO_0000065</td>\n",
              "      <td>None</td>\n",
              "      <td>22.4</td>\n",
              "    </tr>\n",
              "  </tbody>\n",
              "</table>\n",
              "<p>301 rows × 45 columns</p>\n",
              "</div>\n",
              "      <button class=\"colab-df-convert\" onclick=\"convertToInteractive('df-064da706-7de2-4577-943e-674a64f3f719')\"\n",
              "              title=\"Convert this dataframe to an interactive table.\"\n",
              "              style=\"display:none;\">\n",
              "        \n",
              "  <svg xmlns=\"http://www.w3.org/2000/svg\" height=\"24px\"viewBox=\"0 0 24 24\"\n",
              "       width=\"24px\">\n",
              "    <path d=\"M0 0h24v24H0V0z\" fill=\"none\"/>\n",
              "    <path d=\"M18.56 5.44l.94 2.06.94-2.06 2.06-.94-2.06-.94-.94-2.06-.94 2.06-2.06.94zm-11 1L8.5 8.5l.94-2.06 2.06-.94-2.06-.94L8.5 2.5l-.94 2.06-2.06.94zm10 10l.94 2.06.94-2.06 2.06-.94-2.06-.94-.94-2.06-.94 2.06-2.06.94z\"/><path d=\"M17.41 7.96l-1.37-1.37c-.4-.4-.92-.59-1.43-.59-.52 0-1.04.2-1.43.59L10.3 9.45l-7.72 7.72c-.78.78-.78 2.05 0 2.83L4 21.41c.39.39.9.59 1.41.59.51 0 1.02-.2 1.41-.59l7.78-7.78 2.81-2.81c.8-.78.8-2.07 0-2.86zM5.41 20L4 18.59l7.72-7.72 1.47 1.35L5.41 20z\"/>\n",
              "  </svg>\n",
              "      </button>\n",
              "      \n",
              "  <style>\n",
              "    .colab-df-container {\n",
              "      display:flex;\n",
              "      flex-wrap:wrap;\n",
              "      gap: 12px;\n",
              "    }\n",
              "\n",
              "    .colab-df-convert {\n",
              "      background-color: #E8F0FE;\n",
              "      border: none;\n",
              "      border-radius: 50%;\n",
              "      cursor: pointer;\n",
              "      display: none;\n",
              "      fill: #1967D2;\n",
              "      height: 32px;\n",
              "      padding: 0 0 0 0;\n",
              "      width: 32px;\n",
              "    }\n",
              "\n",
              "    .colab-df-convert:hover {\n",
              "      background-color: #E2EBFA;\n",
              "      box-shadow: 0px 1px 2px rgba(60, 64, 67, 0.3), 0px 1px 3px 1px rgba(60, 64, 67, 0.15);\n",
              "      fill: #174EA6;\n",
              "    }\n",
              "\n",
              "    [theme=dark] .colab-df-convert {\n",
              "      background-color: #3B4455;\n",
              "      fill: #D2E3FC;\n",
              "    }\n",
              "\n",
              "    [theme=dark] .colab-df-convert:hover {\n",
              "      background-color: #434B5C;\n",
              "      box-shadow: 0px 1px 3px 1px rgba(0, 0, 0, 0.15);\n",
              "      filter: drop-shadow(0px 1px 2px rgba(0, 0, 0, 0.3));\n",
              "      fill: #FFFFFF;\n",
              "    }\n",
              "  </style>\n",
              "\n",
              "      <script>\n",
              "        const buttonEl =\n",
              "          document.querySelector('#df-064da706-7de2-4577-943e-674a64f3f719 button.colab-df-convert');\n",
              "        buttonEl.style.display =\n",
              "          google.colab.kernel.accessAllowed ? 'block' : 'none';\n",
              "\n",
              "        async function convertToInteractive(key) {\n",
              "          const element = document.querySelector('#df-064da706-7de2-4577-943e-674a64f3f719');\n",
              "          const dataTable =\n",
              "            await google.colab.kernel.invokeFunction('convertToInteractive',\n",
              "                                                     [key], {});\n",
              "          if (!dataTable) return;\n",
              "\n",
              "          const docLinkHtml = 'Like what you see? Visit the ' +\n",
              "            '<a target=\"_blank\" href=https://colab.research.google.com/notebooks/data_table.ipynb>data table notebook</a>'\n",
              "            + ' to learn more about interactive tables.';\n",
              "          element.innerHTML = '';\n",
              "          dataTable['output_type'] = 'display_data';\n",
              "          await google.colab.output.renderOutput(dataTable, element);\n",
              "          const docLink = document.createElement('div');\n",
              "          docLink.innerHTML = docLinkHtml;\n",
              "          element.appendChild(docLink);\n",
              "        }\n",
              "      </script>\n",
              "    </div>\n",
              "  </div>\n",
              "  "
            ],
            "text/plain": [
              "    activity_comment  activity_id activity_properties assay_chembl_id  \\\n",
              "0               None       185453                  []    CHEMBL690673   \n",
              "1               None       196324                  []    CHEMBL690673   \n",
              "2               None       205980                  []    CHEMBL690673   \n",
              "3               None       213023                  []    CHEMBL690673   \n",
              "4               None       216494                  []    CHEMBL690673   \n",
              "..               ...          ...                 ...             ...   \n",
              "296             None      1253722                  []    CHEMBL686816   \n",
              "297             None      1256438                  []    CHEMBL686816   \n",
              "298             None      1258991                  []    CHEMBL686816   \n",
              "299             None      1258993                  []    CHEMBL686816   \n",
              "300             None      1263907                  []    CHEMBL686816   \n",
              "\n",
              "                                     assay_description assay_type  \\\n",
              "0    Inhibition of H+/K+ ATPase activity in buffere...          B   \n",
              "1    Inhibition of H+/K+ ATPase activity in buffere...          B   \n",
              "2    Inhibition of H+/K+ ATPase activity in buffere...          B   \n",
              "3    Inhibition of H+/K+ ATPase activity in buffere...          B   \n",
              "4    Inhibition of H+/K+ ATPase activity in buffere...          B   \n",
              "..                                                 ...        ...   \n",
              "296  Compound was tested in vitro for H+/K+ ATPase ...          B   \n",
              "297  Compound was tested in vitro for H+/K+ ATPase ...          B   \n",
              "298  Compound was tested in vitro for H+/K+ ATPase ...          B   \n",
              "299  Compound was tested in vitro for H+/K+ ATPase ...          B   \n",
              "300  Compound was tested in vitro for H+/K+ ATPase ...          B   \n",
              "\n",
              "    assay_variant_accession assay_variant_mutation bao_endpoint   bao_format  \\\n",
              "0                      None                   None  BAO_0000190  BAO_0000223   \n",
              "1                      None                   None  BAO_0000190  BAO_0000223   \n",
              "2                      None                   None  BAO_0000190  BAO_0000223   \n",
              "3                      None                   None  BAO_0000190  BAO_0000223   \n",
              "4                      None                   None  BAO_0000190  BAO_0000223   \n",
              "..                      ...                    ...          ...          ...   \n",
              "296                    None                   None  BAO_0000190  BAO_0000221   \n",
              "297                    None                   None  BAO_0000190  BAO_0000221   \n",
              "298                    None                   None  BAO_0000190  BAO_0000221   \n",
              "299                    None                   None  BAO_0000190  BAO_0000221   \n",
              "300                    None                   None  BAO_0000190  BAO_0000221   \n",
              "\n",
              "     ... target_organism               target_pref_name target_tax_id  \\\n",
              "0    ...    Homo sapiens  Potassium-transporting ATPase          9606   \n",
              "1    ...    Homo sapiens  Potassium-transporting ATPase          9606   \n",
              "2    ...    Homo sapiens  Potassium-transporting ATPase          9606   \n",
              "3    ...    Homo sapiens  Potassium-transporting ATPase          9606   \n",
              "4    ...    Homo sapiens  Potassium-transporting ATPase          9606   \n",
              "..   ...             ...                            ...           ...   \n",
              "296  ...    Homo sapiens  Potassium-transporting ATPase          9606   \n",
              "297  ...    Homo sapiens  Potassium-transporting ATPase          9606   \n",
              "298  ...    Homo sapiens  Potassium-transporting ATPase          9606   \n",
              "299  ...    Homo sapiens  Potassium-transporting ATPase          9606   \n",
              "300  ...    Homo sapiens  Potassium-transporting ATPase          9606   \n",
              "\n",
              "    text_value  toid  type  units    uo_units upper_value  value  \n",
              "0         None  None  IC50     uM  UO_0000065        None   98.0  \n",
              "1         None  None  IC50     uM  UO_0000065        None  100.0  \n",
              "2         None  None  IC50     uM  UO_0000065        None  100.0  \n",
              "3         None  None  IC50     uM  UO_0000065        None   33.0  \n",
              "4         None  None  IC50     uM  UO_0000065        None   24.0  \n",
              "..         ...   ...   ...    ...         ...         ...    ...  \n",
              "296       None  None  IC50     uM  UO_0000065        None  100.0  \n",
              "297       None  None  IC50     uM  UO_0000065        None    4.8  \n",
              "298       None  None  IC50     uM  UO_0000065        None  100.0  \n",
              "299       None  None  IC50     uM  UO_0000065        None   14.0  \n",
              "300       None  None  IC50     uM  UO_0000065        None   22.4  \n",
              "\n",
              "[301 rows x 45 columns]"
            ]
          },
          "execution_count": 109,
          "metadata": {},
          "output_type": "execute_result"
        }
      ],
      "source": [
        "# transforming the dictionary into a dataframe\n",
        "df = pd.DataFrame.from_dict(res)\n",
        "df"
      ]
    },
    {
      "cell_type": "markdown",
      "metadata": {
        "id": "unVvXUnfF25a"
      },
      "source": [
        "We'll start with removing non-na values in the 'standard values'(IC50) column. After that, we'll remove non-unique chemical values, keeping the first instance that is reported of each molecule. This will take the number of rows from 301 to 236 unique molecules. "
      ]
    },
    {
      "cell_type": "code",
      "execution_count": null,
      "metadata": {
        "colab": {
          "base_uri": "https://localhost:8080/"
        },
        "id": "xsj7AkGZ_5Dt",
        "outputId": "3d235dd8-c24d-42c5-ac73-f8b48b307ac3"
      },
      "outputs": [
        {
          "data": {
            "text/plain": [
              "301"
            ]
          },
          "execution_count": 110,
          "metadata": {},
          "output_type": "execute_result"
        }
      ],
      "source": [
        "# initial number of molecules\n",
        "df.shape[0]"
      ]
    },
    {
      "cell_type": "code",
      "execution_count": null,
      "metadata": {
        "colab": {
          "base_uri": "https://localhost:8080/"
        },
        "id": "vxfVEnmhES1k",
        "outputId": "fef80d13-8c52-42aa-d5fc-386179d871d2"
      },
      "outputs": [
        {
          "data": {
            "text/plain": [
              "236"
            ]
          },
          "execution_count": 111,
          "metadata": {},
          "output_type": "execute_result"
        }
      ],
      "source": [
        "# removing molecules with no IC50 and that are repeated in the dataset\n",
        "df2 = df[df.standard_value.notna()]\n",
        "df2 = df2.drop_duplicates(['molecule_chembl_id'])\n",
        "df2.shape[0]"
      ]
    },
    {
      "cell_type": "markdown",
      "metadata": {
        "id": "S8541ARgfvoH"
      },
      "source": [
        "With only unique molecules with data now, we will snatch the columns we want and turn them into appropriate data types. The columns we are keeping are the molecule ID, the molecule's canonical SMILE (simplified molecular-input line-entry system), and its IC50 activity value. For those who do not know what a SMILE is, it is essentially a way to see a molecule's chemical formula in a 1-dimensional fashion. The IC50 activity level is then turned into a float data type. "
      ]
    },
    {
      "cell_type": "code",
      "execution_count": null,
      "metadata": {
        "colab": {
          "base_uri": "https://localhost:8080/",
          "height": 424
        },
        "id": "73HgORS_BPI9",
        "outputId": "62d6e2df-af63-4b5b-bed8-da417d4d8bf9"
      },
      "outputs": [
        {
          "data": {
            "text/html": [
              "\n",
              "  <div id=\"df-271802b2-db49-4b95-a6a6-742c37ceeaf2\">\n",
              "    <div class=\"colab-df-container\">\n",
              "      <div>\n",
              "<style scoped>\n",
              "    .dataframe tbody tr th:only-of-type {\n",
              "        vertical-align: middle;\n",
              "    }\n",
              "\n",
              "    .dataframe tbody tr th {\n",
              "        vertical-align: top;\n",
              "    }\n",
              "\n",
              "    .dataframe thead th {\n",
              "        text-align: right;\n",
              "    }\n",
              "</style>\n",
              "<table border=\"1\" class=\"dataframe\">\n",
              "  <thead>\n",
              "    <tr style=\"text-align: right;\">\n",
              "      <th></th>\n",
              "      <th>molecule_chembl_id</th>\n",
              "      <th>canonical_smiles</th>\n",
              "      <th>standard_value</th>\n",
              "    </tr>\n",
              "  </thead>\n",
              "  <tbody>\n",
              "    <tr>\n",
              "      <th>0</th>\n",
              "      <td>CHEMBL54932</td>\n",
              "      <td>COc1c(C)cnc(CCC2(C)Nc3ccccc3S2)c1C</td>\n",
              "      <td>98000.00</td>\n",
              "    </tr>\n",
              "    <tr>\n",
              "      <th>1</th>\n",
              "      <td>CHEMBL58203</td>\n",
              "      <td>COc1c(C)cnc(CCC2(C)Nc3cc(Cl)ccc3S2)c1C</td>\n",
              "      <td>100000.00</td>\n",
              "    </tr>\n",
              "    <tr>\n",
              "      <th>2</th>\n",
              "      <td>CHEMBL433094</td>\n",
              "      <td>COc1c(C)cnc(/C=C/C2(C)Nc3ccccc3S2)c1C</td>\n",
              "      <td>100000.00</td>\n",
              "    </tr>\n",
              "    <tr>\n",
              "      <th>3</th>\n",
              "      <td>CHEMBL58681</td>\n",
              "      <td>COc1c(C)cnc(CCC2(C)Nc3cc(F)ccc3S2)c1C</td>\n",
              "      <td>33000.00</td>\n",
              "    </tr>\n",
              "    <tr>\n",
              "      <th>4</th>\n",
              "      <td>CHEMBL57148</td>\n",
              "      <td>COc1c(C)cnc(CCC2(C)Nc3cc(C(F)(F)F)ccc3S2)c1C</td>\n",
              "      <td>24000.00</td>\n",
              "    </tr>\n",
              "    <tr>\n",
              "      <th>...</th>\n",
              "      <td>...</td>\n",
              "      <td>...</td>\n",
              "      <td>...</td>\n",
              "    </tr>\n",
              "    <tr>\n",
              "      <th>231</th>\n",
              "      <td>CHEMBL97122</td>\n",
              "      <td>COc1cccc2c1ncc1c(C(C)C)cn(-c3ccc(O)cc3C)c12</td>\n",
              "      <td>7200.00</td>\n",
              "    </tr>\n",
              "    <tr>\n",
              "      <th>232</th>\n",
              "      <td>CHEMBL97334</td>\n",
              "      <td>COc1cccc2c1ncc1c(CO)cn(-c3ccc(F)cc3C)c12</td>\n",
              "      <td>100000.00</td>\n",
              "    </tr>\n",
              "    <tr>\n",
              "      <th>233</th>\n",
              "      <td>CHEMBL327653</td>\n",
              "      <td>Cc1ccccc1-n1cc(C)c2cnc3c(O)cccc3c21</td>\n",
              "      <td>4800.00</td>\n",
              "    </tr>\n",
              "    <tr>\n",
              "      <th>234</th>\n",
              "      <td>CHEMBL317569</td>\n",
              "      <td>COc1cccc2c1ncc1c(CO)cn(-c3ccccc3C)c12</td>\n",
              "      <td>100000.00</td>\n",
              "    </tr>\n",
              "    <tr>\n",
              "      <th>235</th>\n",
              "      <td>CHEMBL328883</td>\n",
              "      <td>COc1cccc2c1ncc1c(C)cn(-c3ccc(F)cc3C)c12</td>\n",
              "      <td>14000.00</td>\n",
              "    </tr>\n",
              "  </tbody>\n",
              "</table>\n",
              "<p>236 rows × 3 columns</p>\n",
              "</div>\n",
              "      <button class=\"colab-df-convert\" onclick=\"convertToInteractive('df-271802b2-db49-4b95-a6a6-742c37ceeaf2')\"\n",
              "              title=\"Convert this dataframe to an interactive table.\"\n",
              "              style=\"display:none;\">\n",
              "        \n",
              "  <svg xmlns=\"http://www.w3.org/2000/svg\" height=\"24px\"viewBox=\"0 0 24 24\"\n",
              "       width=\"24px\">\n",
              "    <path d=\"M0 0h24v24H0V0z\" fill=\"none\"/>\n",
              "    <path d=\"M18.56 5.44l.94 2.06.94-2.06 2.06-.94-2.06-.94-.94-2.06-.94 2.06-2.06.94zm-11 1L8.5 8.5l.94-2.06 2.06-.94-2.06-.94L8.5 2.5l-.94 2.06-2.06.94zm10 10l.94 2.06.94-2.06 2.06-.94-2.06-.94-.94-2.06-.94 2.06-2.06.94z\"/><path d=\"M17.41 7.96l-1.37-1.37c-.4-.4-.92-.59-1.43-.59-.52 0-1.04.2-1.43.59L10.3 9.45l-7.72 7.72c-.78.78-.78 2.05 0 2.83L4 21.41c.39.39.9.59 1.41.59.51 0 1.02-.2 1.41-.59l7.78-7.78 2.81-2.81c.8-.78.8-2.07 0-2.86zM5.41 20L4 18.59l7.72-7.72 1.47 1.35L5.41 20z\"/>\n",
              "  </svg>\n",
              "      </button>\n",
              "      \n",
              "  <style>\n",
              "    .colab-df-container {\n",
              "      display:flex;\n",
              "      flex-wrap:wrap;\n",
              "      gap: 12px;\n",
              "    }\n",
              "\n",
              "    .colab-df-convert {\n",
              "      background-color: #E8F0FE;\n",
              "      border: none;\n",
              "      border-radius: 50%;\n",
              "      cursor: pointer;\n",
              "      display: none;\n",
              "      fill: #1967D2;\n",
              "      height: 32px;\n",
              "      padding: 0 0 0 0;\n",
              "      width: 32px;\n",
              "    }\n",
              "\n",
              "    .colab-df-convert:hover {\n",
              "      background-color: #E2EBFA;\n",
              "      box-shadow: 0px 1px 2px rgba(60, 64, 67, 0.3), 0px 1px 3px 1px rgba(60, 64, 67, 0.15);\n",
              "      fill: #174EA6;\n",
              "    }\n",
              "\n",
              "    [theme=dark] .colab-df-convert {\n",
              "      background-color: #3B4455;\n",
              "      fill: #D2E3FC;\n",
              "    }\n",
              "\n",
              "    [theme=dark] .colab-df-convert:hover {\n",
              "      background-color: #434B5C;\n",
              "      box-shadow: 0px 1px 3px 1px rgba(0, 0, 0, 0.15);\n",
              "      filter: drop-shadow(0px 1px 2px rgba(0, 0, 0, 0.3));\n",
              "      fill: #FFFFFF;\n",
              "    }\n",
              "  </style>\n",
              "\n",
              "      <script>\n",
              "        const buttonEl =\n",
              "          document.querySelector('#df-271802b2-db49-4b95-a6a6-742c37ceeaf2 button.colab-df-convert');\n",
              "        buttonEl.style.display =\n",
              "          google.colab.kernel.accessAllowed ? 'block' : 'none';\n",
              "\n",
              "        async function convertToInteractive(key) {\n",
              "          const element = document.querySelector('#df-271802b2-db49-4b95-a6a6-742c37ceeaf2');\n",
              "          const dataTable =\n",
              "            await google.colab.kernel.invokeFunction('convertToInteractive',\n",
              "                                                     [key], {});\n",
              "          if (!dataTable) return;\n",
              "\n",
              "          const docLinkHtml = 'Like what you see? Visit the ' +\n",
              "            '<a target=\"_blank\" href=https://colab.research.google.com/notebooks/data_table.ipynb>data table notebook</a>'\n",
              "            + ' to learn more about interactive tables.';\n",
              "          element.innerHTML = '';\n",
              "          dataTable['output_type'] = 'display_data';\n",
              "          await google.colab.output.renderOutput(dataTable, element);\n",
              "          const docLink = document.createElement('div');\n",
              "          docLink.innerHTML = docLinkHtml;\n",
              "          element.appendChild(docLink);\n",
              "        }\n",
              "      </script>\n",
              "    </div>\n",
              "  </div>\n",
              "  "
            ],
            "text/plain": [
              "    molecule_chembl_id                              canonical_smiles  \\\n",
              "0          CHEMBL54932            COc1c(C)cnc(CCC2(C)Nc3ccccc3S2)c1C   \n",
              "1          CHEMBL58203        COc1c(C)cnc(CCC2(C)Nc3cc(Cl)ccc3S2)c1C   \n",
              "2         CHEMBL433094         COc1c(C)cnc(/C=C/C2(C)Nc3ccccc3S2)c1C   \n",
              "3          CHEMBL58681         COc1c(C)cnc(CCC2(C)Nc3cc(F)ccc3S2)c1C   \n",
              "4          CHEMBL57148  COc1c(C)cnc(CCC2(C)Nc3cc(C(F)(F)F)ccc3S2)c1C   \n",
              "..                 ...                                           ...   \n",
              "231        CHEMBL97122   COc1cccc2c1ncc1c(C(C)C)cn(-c3ccc(O)cc3C)c12   \n",
              "232        CHEMBL97334      COc1cccc2c1ncc1c(CO)cn(-c3ccc(F)cc3C)c12   \n",
              "233       CHEMBL327653           Cc1ccccc1-n1cc(C)c2cnc3c(O)cccc3c21   \n",
              "234       CHEMBL317569         COc1cccc2c1ncc1c(CO)cn(-c3ccccc3C)c12   \n",
              "235       CHEMBL328883       COc1cccc2c1ncc1c(C)cn(-c3ccc(F)cc3C)c12   \n",
              "\n",
              "     standard_value  \n",
              "0          98000.00  \n",
              "1         100000.00  \n",
              "2         100000.00  \n",
              "3          33000.00  \n",
              "4          24000.00  \n",
              "..              ...  \n",
              "231         7200.00  \n",
              "232       100000.00  \n",
              "233         4800.00  \n",
              "234       100000.00  \n",
              "235        14000.00  \n",
              "\n",
              "[236 rows x 3 columns]"
            ]
          },
          "execution_count": 112,
          "metadata": {},
          "output_type": "execute_result"
        }
      ],
      "source": [
        "# making dataframe with molecule identifiers and IC50 value\n",
        "df3 = df2.loc[:,['molecule_chembl_id','canonical_smiles','standard_value']]\n",
        "df3.loc[:,'standard_value'] = df3['standard_value'].astype(float)\n",
        "df3.reset_index(drop = True, inplace = True)\n",
        "df3"
      ]
    },
    {
      "cell_type": "markdown",
      "metadata": {
        "id": "MKwnyrrewVRv"
      },
      "source": [
        "The next step for the machine learning setup process is to transform the IC50 values from uM to the -log10 of the IC50, also known as the pIC50. \n"
      ]
    },
    {
      "cell_type": "code",
      "execution_count": null,
      "metadata": {
        "id": "mMETqilNljA9"
      },
      "outputs": [],
      "source": [
        "# transforming IC50(um) to pIC50\n",
        "def pIC50(IC50_Level):\n",
        "\n",
        "  pIC50 = []\n",
        "  \n",
        "  # for each IC50, transform to Molar and convert to pIC50\n",
        "  for IC50 in IC50_Level:\n",
        "    pIC50.append(-np.log10(IC50 * 10**-6))\n",
        "\n",
        "  # add pIC50 values to dataframe \n",
        "  df3['pIC50'] = pIC50\n",
        "  return df3"
      ]
    },
    {
      "cell_type": "code",
      "execution_count": null,
      "metadata": {
        "colab": {
          "base_uri": "https://localhost:8080/",
          "height": 424
        },
        "id": "Xzj8IRGmmDER",
        "outputId": "24f80a4b-d9ca-40d3-e3e0-377ead9c6185"
      },
      "outputs": [
        {
          "data": {
            "text/html": [
              "\n",
              "  <div id=\"df-2e60f46e-68eb-422b-94a7-414a987a6a10\">\n",
              "    <div class=\"colab-df-container\">\n",
              "      <div>\n",
              "<style scoped>\n",
              "    .dataframe tbody tr th:only-of-type {\n",
              "        vertical-align: middle;\n",
              "    }\n",
              "\n",
              "    .dataframe tbody tr th {\n",
              "        vertical-align: top;\n",
              "    }\n",
              "\n",
              "    .dataframe thead th {\n",
              "        text-align: right;\n",
              "    }\n",
              "</style>\n",
              "<table border=\"1\" class=\"dataframe\">\n",
              "  <thead>\n",
              "    <tr style=\"text-align: right;\">\n",
              "      <th></th>\n",
              "      <th>molecule_chembl_id</th>\n",
              "      <th>canonical_smiles</th>\n",
              "      <th>standard_value</th>\n",
              "      <th>pIC50</th>\n",
              "    </tr>\n",
              "  </thead>\n",
              "  <tbody>\n",
              "    <tr>\n",
              "      <th>0</th>\n",
              "      <td>CHEMBL54932</td>\n",
              "      <td>COc1c(C)cnc(CCC2(C)Nc3ccccc3S2)c1C</td>\n",
              "      <td>98000.00</td>\n",
              "      <td>1.01</td>\n",
              "    </tr>\n",
              "    <tr>\n",
              "      <th>1</th>\n",
              "      <td>CHEMBL58203</td>\n",
              "      <td>COc1c(C)cnc(CCC2(C)Nc3cc(Cl)ccc3S2)c1C</td>\n",
              "      <td>100000.00</td>\n",
              "      <td>1.00</td>\n",
              "    </tr>\n",
              "    <tr>\n",
              "      <th>2</th>\n",
              "      <td>CHEMBL433094</td>\n",
              "      <td>COc1c(C)cnc(/C=C/C2(C)Nc3ccccc3S2)c1C</td>\n",
              "      <td>100000.00</td>\n",
              "      <td>1.00</td>\n",
              "    </tr>\n",
              "    <tr>\n",
              "      <th>3</th>\n",
              "      <td>CHEMBL58681</td>\n",
              "      <td>COc1c(C)cnc(CCC2(C)Nc3cc(F)ccc3S2)c1C</td>\n",
              "      <td>33000.00</td>\n",
              "      <td>1.48</td>\n",
              "    </tr>\n",
              "    <tr>\n",
              "      <th>4</th>\n",
              "      <td>CHEMBL57148</td>\n",
              "      <td>COc1c(C)cnc(CCC2(C)Nc3cc(C(F)(F)F)ccc3S2)c1C</td>\n",
              "      <td>24000.00</td>\n",
              "      <td>1.62</td>\n",
              "    </tr>\n",
              "    <tr>\n",
              "      <th>...</th>\n",
              "      <td>...</td>\n",
              "      <td>...</td>\n",
              "      <td>...</td>\n",
              "      <td>...</td>\n",
              "    </tr>\n",
              "    <tr>\n",
              "      <th>231</th>\n",
              "      <td>CHEMBL97122</td>\n",
              "      <td>COc1cccc2c1ncc1c(C(C)C)cn(-c3ccc(O)cc3C)c12</td>\n",
              "      <td>7200.00</td>\n",
              "      <td>2.14</td>\n",
              "    </tr>\n",
              "    <tr>\n",
              "      <th>232</th>\n",
              "      <td>CHEMBL97334</td>\n",
              "      <td>COc1cccc2c1ncc1c(CO)cn(-c3ccc(F)cc3C)c12</td>\n",
              "      <td>100000.00</td>\n",
              "      <td>1.00</td>\n",
              "    </tr>\n",
              "    <tr>\n",
              "      <th>233</th>\n",
              "      <td>CHEMBL327653</td>\n",
              "      <td>Cc1ccccc1-n1cc(C)c2cnc3c(O)cccc3c21</td>\n",
              "      <td>4800.00</td>\n",
              "      <td>2.32</td>\n",
              "    </tr>\n",
              "    <tr>\n",
              "      <th>234</th>\n",
              "      <td>CHEMBL317569</td>\n",
              "      <td>COc1cccc2c1ncc1c(CO)cn(-c3ccccc3C)c12</td>\n",
              "      <td>100000.00</td>\n",
              "      <td>1.00</td>\n",
              "    </tr>\n",
              "    <tr>\n",
              "      <th>235</th>\n",
              "      <td>CHEMBL328883</td>\n",
              "      <td>COc1cccc2c1ncc1c(C)cn(-c3ccc(F)cc3C)c12</td>\n",
              "      <td>14000.00</td>\n",
              "      <td>1.85</td>\n",
              "    </tr>\n",
              "  </tbody>\n",
              "</table>\n",
              "<p>236 rows × 4 columns</p>\n",
              "</div>\n",
              "      <button class=\"colab-df-convert\" onclick=\"convertToInteractive('df-2e60f46e-68eb-422b-94a7-414a987a6a10')\"\n",
              "              title=\"Convert this dataframe to an interactive table.\"\n",
              "              style=\"display:none;\">\n",
              "        \n",
              "  <svg xmlns=\"http://www.w3.org/2000/svg\" height=\"24px\"viewBox=\"0 0 24 24\"\n",
              "       width=\"24px\">\n",
              "    <path d=\"M0 0h24v24H0V0z\" fill=\"none\"/>\n",
              "    <path d=\"M18.56 5.44l.94 2.06.94-2.06 2.06-.94-2.06-.94-.94-2.06-.94 2.06-2.06.94zm-11 1L8.5 8.5l.94-2.06 2.06-.94-2.06-.94L8.5 2.5l-.94 2.06-2.06.94zm10 10l.94 2.06.94-2.06 2.06-.94-2.06-.94-.94-2.06-.94 2.06-2.06.94z\"/><path d=\"M17.41 7.96l-1.37-1.37c-.4-.4-.92-.59-1.43-.59-.52 0-1.04.2-1.43.59L10.3 9.45l-7.72 7.72c-.78.78-.78 2.05 0 2.83L4 21.41c.39.39.9.59 1.41.59.51 0 1.02-.2 1.41-.59l7.78-7.78 2.81-2.81c.8-.78.8-2.07 0-2.86zM5.41 20L4 18.59l7.72-7.72 1.47 1.35L5.41 20z\"/>\n",
              "  </svg>\n",
              "      </button>\n",
              "      \n",
              "  <style>\n",
              "    .colab-df-container {\n",
              "      display:flex;\n",
              "      flex-wrap:wrap;\n",
              "      gap: 12px;\n",
              "    }\n",
              "\n",
              "    .colab-df-convert {\n",
              "      background-color: #E8F0FE;\n",
              "      border: none;\n",
              "      border-radius: 50%;\n",
              "      cursor: pointer;\n",
              "      display: none;\n",
              "      fill: #1967D2;\n",
              "      height: 32px;\n",
              "      padding: 0 0 0 0;\n",
              "      width: 32px;\n",
              "    }\n",
              "\n",
              "    .colab-df-convert:hover {\n",
              "      background-color: #E2EBFA;\n",
              "      box-shadow: 0px 1px 2px rgba(60, 64, 67, 0.3), 0px 1px 3px 1px rgba(60, 64, 67, 0.15);\n",
              "      fill: #174EA6;\n",
              "    }\n",
              "\n",
              "    [theme=dark] .colab-df-convert {\n",
              "      background-color: #3B4455;\n",
              "      fill: #D2E3FC;\n",
              "    }\n",
              "\n",
              "    [theme=dark] .colab-df-convert:hover {\n",
              "      background-color: #434B5C;\n",
              "      box-shadow: 0px 1px 3px 1px rgba(0, 0, 0, 0.15);\n",
              "      filter: drop-shadow(0px 1px 2px rgba(0, 0, 0, 0.3));\n",
              "      fill: #FFFFFF;\n",
              "    }\n",
              "  </style>\n",
              "\n",
              "      <script>\n",
              "        const buttonEl =\n",
              "          document.querySelector('#df-2e60f46e-68eb-422b-94a7-414a987a6a10 button.colab-df-convert');\n",
              "        buttonEl.style.display =\n",
              "          google.colab.kernel.accessAllowed ? 'block' : 'none';\n",
              "\n",
              "        async function convertToInteractive(key) {\n",
              "          const element = document.querySelector('#df-2e60f46e-68eb-422b-94a7-414a987a6a10');\n",
              "          const dataTable =\n",
              "            await google.colab.kernel.invokeFunction('convertToInteractive',\n",
              "                                                     [key], {});\n",
              "          if (!dataTable) return;\n",
              "\n",
              "          const docLinkHtml = 'Like what you see? Visit the ' +\n",
              "            '<a target=\"_blank\" href=https://colab.research.google.com/notebooks/data_table.ipynb>data table notebook</a>'\n",
              "            + ' to learn more about interactive tables.';\n",
              "          element.innerHTML = '';\n",
              "          dataTable['output_type'] = 'display_data';\n",
              "          await google.colab.output.renderOutput(dataTable, element);\n",
              "          const docLink = document.createElement('div');\n",
              "          docLink.innerHTML = docLinkHtml;\n",
              "          element.appendChild(docLink);\n",
              "        }\n",
              "      </script>\n",
              "    </div>\n",
              "  </div>\n",
              "  "
            ],
            "text/plain": [
              "    molecule_chembl_id                              canonical_smiles  \\\n",
              "0          CHEMBL54932            COc1c(C)cnc(CCC2(C)Nc3ccccc3S2)c1C   \n",
              "1          CHEMBL58203        COc1c(C)cnc(CCC2(C)Nc3cc(Cl)ccc3S2)c1C   \n",
              "2         CHEMBL433094         COc1c(C)cnc(/C=C/C2(C)Nc3ccccc3S2)c1C   \n",
              "3          CHEMBL58681         COc1c(C)cnc(CCC2(C)Nc3cc(F)ccc3S2)c1C   \n",
              "4          CHEMBL57148  COc1c(C)cnc(CCC2(C)Nc3cc(C(F)(F)F)ccc3S2)c1C   \n",
              "..                 ...                                           ...   \n",
              "231        CHEMBL97122   COc1cccc2c1ncc1c(C(C)C)cn(-c3ccc(O)cc3C)c12   \n",
              "232        CHEMBL97334      COc1cccc2c1ncc1c(CO)cn(-c3ccc(F)cc3C)c12   \n",
              "233       CHEMBL327653           Cc1ccccc1-n1cc(C)c2cnc3c(O)cccc3c21   \n",
              "234       CHEMBL317569         COc1cccc2c1ncc1c(CO)cn(-c3ccccc3C)c12   \n",
              "235       CHEMBL328883       COc1cccc2c1ncc1c(C)cn(-c3ccc(F)cc3C)c12   \n",
              "\n",
              "     standard_value  pIC50  \n",
              "0          98000.00   1.01  \n",
              "1         100000.00   1.00  \n",
              "2         100000.00   1.00  \n",
              "3          33000.00   1.48  \n",
              "4          24000.00   1.62  \n",
              "..              ...    ...  \n",
              "231         7200.00   2.14  \n",
              "232       100000.00   1.00  \n",
              "233         4800.00   2.32  \n",
              "234       100000.00   1.00  \n",
              "235        14000.00   1.85  \n",
              "\n",
              "[236 rows x 4 columns]"
            ]
          },
          "execution_count": 114,
          "metadata": {},
          "output_type": "execute_result"
        }
      ],
      "source": [
        "df4 = pIC50(df3['standard_value'])\n",
        "df4"
      ]
    },
    {
      "cell_type": "markdown",
      "metadata": {
        "id": "yWzq91JNyMCD"
      },
      "source": [
        "The next part of the setup process is classifying/binning the different drugs based off their IC50 levels for exploratory analysis. Drugs with less than 1000 um IC50 values will be labeled as low. Drugs with greater than 1000 um and less than 10000 um will be labeled as medium levels. Drugs with greater than 10000 um will be labeled as high. This results in an almost equal distribution of activity levels. "
      ]
    },
    {
      "cell_type": "markdown",
      "metadata": {
        "id": "y7LKT2ZIhZx6"
      },
      "source": [
        "### Using Molecular Descriptors to Gather Features"
      ]
    },
    {
      "cell_type": "markdown",
      "metadata": {
        "id": "UxdYhy_Xl38K"
      },
      "source": [
        "Right now we have the names of the molecules and the target pIC50 value for each molecule. However, we have no features! To get features, we will use a program called PaDEL-Decriptor to calculate molecular descriptors and fingerprints for use in the dataset. More information can be found [here](https://onlinelibrary.wiley.com/doi/10.1002/jcc.21707). All we need to know right now is that the program takes the ChEMBL Id and the Molecular SMILE and uses it to find over 800 features about the molecule, and all of those features are binary. \n",
        "\n",
        "For now, we will need to download, unzip, and push the molecule name/smiles through the software."
      ]
    },
    {
      "cell_type": "code",
      "execution_count": null,
      "metadata": {
        "colab": {
          "base_uri": "https://localhost:8080/"
        },
        "id": "9bmzd8yihjmO",
        "outputId": "82004636-8215-4a2c-8056-8d58d88d1354"
      },
      "outputs": [
        {
          "name": "stdout",
          "output_type": "stream",
          "text": [
            "--2022-09-30 18:42:28--  https://github.com/dataprofessor/bioinformatics/raw/master/padel.zip\n",
            "Resolving github.com (github.com)... 140.82.113.3\n",
            "Connecting to github.com (github.com)|140.82.113.3|:443... connected.\n",
            "HTTP request sent, awaiting response... 302 Found\n",
            "Location: https://raw.githubusercontent.com/dataprofessor/bioinformatics/master/padel.zip [following]\n",
            "--2022-09-30 18:42:28--  https://raw.githubusercontent.com/dataprofessor/bioinformatics/master/padel.zip\n",
            "Resolving raw.githubusercontent.com (raw.githubusercontent.com)... 185.199.110.133, 185.199.108.133, 185.199.109.133, ...\n",
            "Connecting to raw.githubusercontent.com (raw.githubusercontent.com)|185.199.110.133|:443... connected.\n",
            "HTTP request sent, awaiting response... 200 OK\n",
            "Length: 25768637 (25M) [application/zip]\n",
            "Saving to: ‘padel.zip.1’\n",
            "\n",
            "padel.zip.1         100%[===================>]  24.57M  --.-KB/s    in 0.1s    \n",
            "\n",
            "2022-09-30 18:42:29 (165 MB/s) - ‘padel.zip.1’ saved [25768637/25768637]\n",
            "\n",
            "--2022-09-30 18:42:29--  https://github.com/dataprofessor/bioinformatics/raw/master/padel.sh\n",
            "Resolving github.com (github.com)... 140.82.112.4\n",
            "Connecting to github.com (github.com)|140.82.112.4|:443... connected.\n",
            "HTTP request sent, awaiting response... 302 Found\n",
            "Location: https://raw.githubusercontent.com/dataprofessor/bioinformatics/master/padel.sh [following]\n",
            "--2022-09-30 18:42:29--  https://raw.githubusercontent.com/dataprofessor/bioinformatics/master/padel.sh\n",
            "Resolving raw.githubusercontent.com (raw.githubusercontent.com)... 185.199.110.133, 185.199.108.133, 185.199.109.133, ...\n",
            "Connecting to raw.githubusercontent.com (raw.githubusercontent.com)|185.199.110.133|:443... connected.\n",
            "HTTP request sent, awaiting response... 200 OK\n",
            "Length: 231 [text/plain]\n",
            "Saving to: ‘padel.sh.1’\n",
            "\n",
            "padel.sh.1          100%[===================>]     231  --.-KB/s    in 0s      \n",
            "\n",
            "2022-09-30 18:42:29 (14.7 MB/s) - ‘padel.sh.1’ saved [231/231]\n",
            "\n"
          ]
        }
      ],
      "source": [
        "! wget https://github.com/dataprofessor/bioinformatics/raw/master/padel.zip\n",
        "! wget https://github.com/dataprofessor/bioinformatics/raw/master/padel.sh"
      ]
    },
    {
      "cell_type": "code",
      "execution_count": null,
      "metadata": {
        "colab": {
          "base_uri": "https://localhost:8080/"
        },
        "id": "UDCZLvxEujFj",
        "outputId": "53a49a66-2f95-456a-f824-f65cfc8b8635"
      },
      "outputs": [
        {
          "name": "stdout",
          "output_type": "stream",
          "text": [
            "Archive:  padel.zip\n",
            "replace __MACOSX/._PaDEL-Descriptor? [y]es, [n]o, [A]ll, [N]one, [r]ename: N\n"
          ]
        }
      ],
      "source": [
        "! unzip padel.zip"
      ]
    },
    {
      "cell_type": "code",
      "execution_count": null,
      "metadata": {
        "id": "G8H_rTHip5UF"
      },
      "outputs": [],
      "source": [
        "molecule_names_df = df4[['canonical_smiles','molecule_chembl_id']]\n",
        "molecule_names_df.to_csv('molecule.smi',sep='\\t',index = False, header = False)"
      ]
    },
    {
      "cell_type": "code",
      "execution_count": null,
      "metadata": {
        "colab": {
          "base_uri": "https://localhost:8080/"
        },
        "id": "zC6LMkDwsKg6",
        "outputId": "45ad5d02-ed3c-4e8e-920f-9d7f99f2b5d1"
      },
      "outputs": [
        {
          "name": "stdout",
          "output_type": "stream",
          "text": [
            "COc1c(C)cnc(CCC2(C)Nc3ccccc3S2)c1C\tCHEMBL54932\n",
            "COc1c(C)cnc(CCC2(C)Nc3cc(Cl)ccc3S2)c1C\tCHEMBL58203\n",
            "COc1c(C)cnc(/C=C/C2(C)Nc3ccccc3S2)c1C\tCHEMBL433094\n",
            "COc1c(C)cnc(CCC2(C)Nc3cc(F)ccc3S2)c1C\tCHEMBL58681\n",
            "COc1c(C)cnc(CCC2(C)Nc3cc(C(F)(F)F)ccc3S2)c1C\tCHEMBL57148\n"
          ]
        }
      ],
      "source": [
        "# proving that the molecule file is good for use\n",
        "! cat molecule.smi | head -5 "
      ]
    },
    {
      "cell_type": "code",
      "execution_count": null,
      "metadata": {
        "colab": {
          "base_uri": "https://localhost:8080/"
        },
        "id": "sGuIZNSmt3Ew",
        "outputId": "28f75a80-5c89-4ca7-efdd-095347e112ff"
      },
      "outputs": [
        {
          "name": "stdout",
          "output_type": "stream",
          "text": [
            "236\n"
          ]
        }
      ],
      "source": [
        "# getting length of molecule.smi\n",
        "! cat molecule.smi | wc -l"
      ]
    },
    {
      "cell_type": "code",
      "execution_count": null,
      "metadata": {
        "colab": {
          "base_uri": "https://localhost:8080/"
        },
        "id": "tHa3CR3YuXMs",
        "outputId": "ba9e74e3-04db-4919-bc3b-1fc095467da3"
      },
      "outputs": [
        {
          "name": "stdout",
          "output_type": "stream",
          "text": [
            "java -Xms1G -Xmx1G -Djava.awt.headless=true -jar ./PaDEL-Descriptor/PaDEL-Descriptor.jar -removesalt -standardizenitro -fingerprints -descriptortypes ./PaDEL-Descriptor/PubchemFingerprinter.xml -dir ./ -file descriptors_output.csv\n"
          ]
        }
      ],
      "source": [
        "! cat padel.sh"
      ]
    },
    {
      "cell_type": "code",
      "execution_count": null,
      "metadata": {
        "colab": {
          "base_uri": "https://localhost:8080/"
        },
        "id": "fkWRgVHiud0A",
        "outputId": "2dc2aabe-80fe-45e6-dea1-31844d34237b"
      },
      "outputs": [
        {
          "name": "stdout",
          "output_type": "stream",
          "text": [
            "Processing CHEMBL54932 in molecule.smi (1/236). \n",
            "Processing CHEMBL58203 in molecule.smi (2/236). \n",
            "Processing CHEMBL433094 in molecule.smi (3/236). Average speed: 2.54 s/mol.\n",
            "Processing CHEMBL58681 in molecule.smi (4/236). Average speed: 1.30 s/mol.\n",
            "Processing CHEMBL57148 in molecule.smi (5/236). Average speed: 1.16 s/mol.\n",
            "Processing CHEMBL1503 in molecule.smi (6/236). Average speed: 0.97 s/mol.\n",
            "Processing CHEMBL1744200 in molecule.smi (7/236). Average speed: 0.89 s/mol.\n",
            "Processing CHEMBL1203526 in molecule.smi (8/236). Average speed: 0.78 s/mol.\n",
            "Processing CHEMBL1203474 in molecule.smi (9/236). Average speed: 0.69 s/mol.\n",
            "Processing CHEMBL1202256 in molecule.smi (10/236). Average speed: 0.74 s/mol.\n",
            "Processing CHEMBL1203510 in molecule.smi (12/236). Average speed: 0.65 s/mol.\n",
            "Processing CHEMBL108285 in molecule.smi (11/236). Average speed: 0.66 s/mol.\n",
            "Processing CHEMBL108610 in molecule.smi (14/236). Average speed: 0.58 s/mol.\n",
            "Processing CHEMBL422329 in molecule.smi (13/236). Average speed: 0.62 s/mol.\n",
            "Processing CHEMBL282272 in molecule.smi (15/236). Average speed: 0.54 s/mol.\n",
            "Processing CHEMBL20245 in molecule.smi (16/236). Average speed: 0.53 s/mol.\n",
            "Processing CHEMBL280124 in molecule.smi (17/236). Average speed: 0.50 s/mol.\n",
            "Processing CHEMBL1203529 in molecule.smi (18/236). Average speed: 0.49 s/mol.\n",
            "Processing CHEMBL357729 in molecule.smi (19/236). Average speed: 0.47 s/mol.\n",
            "Processing CHEMBL20098 in molecule.smi (20/236). Average speed: 0.46 s/mol.\n",
            "Processing CHEMBL277030 in molecule.smi (22/236). Average speed: 0.44 s/mol.\n",
            "Processing CHEMBL19703 in molecule.smi (21/236). Average speed: 0.46 s/mol.\n",
            "Processing CHEMBL1203488 in molecule.smi (23/236). Average speed: 0.45 s/mol.\n",
            "Processing CHEMBL1202271 in molecule.smi (24/236). Average speed: 0.42 s/mol.\n",
            "Processing CHEMBL1202266 in molecule.smi (25/236). Average speed: 0.41 s/mol.\n",
            "Processing CHEMBL1203485 in molecule.smi (27/236). Average speed: 0.39 s/mol.\n",
            "Processing CHEMBL1744198 in molecule.smi (26/236). Average speed: 0.40 s/mol.\n",
            "Processing CHEMBL153465 in molecule.smi (28/236). Average speed: 0.38 s/mol.\n",
            "Processing CHEMBL150906 in molecule.smi (29/236). Average speed: 0.37 s/mol.\n",
            "Processing CHEMBL20364 in molecule.smi (30/236). Average speed: 0.37 s/mol.\n",
            "Processing CHEMBL20014 in molecule.smi (31/236). Average speed: 0.36 s/mol.\n",
            "Processing CHEMBL1203511 in molecule.smi (32/236). Average speed: 0.36 s/mol.\n",
            "Processing CHEMBL153055 in molecule.smi (33/236). Average speed: 0.35 s/mol.\n",
            "Processing CHEMBL2448019 in molecule.smi (34/236). Average speed: 0.35 s/mol.\n",
            "Processing CHEMBL108536 in molecule.smi (35/236). Average speed: 0.34 s/mol.\n",
            "Processing CHEMBL277468 in molecule.smi (36/236). Average speed: 0.34 s/mol.\n",
            "Processing CHEMBL20083 in molecule.smi (37/236). Average speed: 0.34 s/mol.\n",
            "Processing CHEMBL1202261 in molecule.smi (38/236). Average speed: 0.33 s/mol.\n",
            "Processing CHEMBL2448017 in molecule.smi (39/236). Average speed: 0.33 s/mol.\n",
            "Processing CHEMBL325803 in molecule.smi (40/236). Average speed: 0.32 s/mol.\n",
            "Processing CHEMBL9861 in molecule.smi (41/236). Average speed: 0.32 s/mol.\n",
            "Processing CHEMBL1203528 in molecule.smi (42/236). Average speed: 0.32 s/mol.\n",
            "Processing CHEMBL1203531 in molecule.smi (43/236). Average speed: 0.31 s/mol.\n",
            "Processing CHEMBL19987 in molecule.smi (44/236). Average speed: 0.31 s/mol.\n",
            "Processing CHEMBL19851 in molecule.smi (45/236). Average speed: 0.31 s/mol.\n",
            "Processing CHEMBL1202274 in molecule.smi (46/236). Average speed: 0.31 s/mol.\n",
            "Processing CHEMBL1203508 in molecule.smi (47/236). Average speed: 0.30 s/mol.\n",
            "Processing CHEMBL20090 in molecule.smi (49/236). Average speed: 0.29 s/mol.\n",
            "Processing CHEMBL322809 in molecule.smi (48/236). Average speed: 0.30 s/mol.\n",
            "Processing CHEMBL1744209 in molecule.smi (50/236). Average speed: 0.29 s/mol.\n",
            "Processing CHEMBL1203481 in molecule.smi (51/236). Average speed: 0.29 s/mol.\n",
            "Processing CHEMBL1202286 in molecule.smi (52/236). Average speed: 0.29 s/mol.\n",
            "Processing CHEMBL1203518 in molecule.smi (53/236). Average speed: 0.28 s/mol.\n",
            "Processing CHEMBL1203471 in molecule.smi (54/236). Average speed: 0.28 s/mol.\n",
            "Processing CHEMBL1744212 in molecule.smi (55/236). Average speed: 0.28 s/mol.\n",
            "Processing CHEMBL1744211 in molecule.smi (56/236). Average speed: 0.28 s/mol.\n",
            "Processing CHEMBL357482 in molecule.smi (57/236). Average speed: 0.27 s/mol.\n",
            "Processing CHEMBL1202279 in molecule.smi (58/236). Average speed: 0.27 s/mol.\n",
            "Processing CHEMBL153322 in molecule.smi (59/236). Average speed: 0.27 s/mol.\n",
            "Processing CHEMBL277211 in molecule.smi (60/236). Average speed: 0.26 s/mol.\n",
            "Processing CHEMBL153719 in molecule.smi (62/236). Average speed: 0.26 s/mol.\n",
            "Processing CHEMBL1203520 in molecule.smi (61/236). Average speed: 0.26 s/mol.\n",
            "Processing CHEMBL1202278 in molecule.smi (63/236). Average speed: 0.26 s/mol.\n",
            "Processing CHEMBL1203530 in molecule.smi (64/236). Average speed: 0.26 s/mol.\n",
            "Processing CHEMBL1203533 in molecule.smi (65/236). Average speed: 0.26 s/mol.\n",
            "Processing CHEMBL1203519 in molecule.smi (66/236). Average speed: 0.26 s/mol.\n",
            "Processing CHEMBL1203492 in molecule.smi (67/236). Average speed: 0.25 s/mol.\n",
            "Processing CHEMBL1203512 in molecule.smi (68/236). Average speed: 0.26 s/mol.\n",
            "Processing CHEMBL1203469 in molecule.smi (69/236). Average speed: 0.25 s/mol.\n",
            "Processing CHEMBL1203475 in molecule.smi (70/236). Average speed: 0.25 s/mol.\n",
            "Processing CHEMBL20372 in molecule.smi (71/236). Average speed: 0.25 s/mol.\n",
            "Processing CHEMBL423289 in molecule.smi (72/236). Average speed: 0.25 s/mol.\n",
            "Processing CHEMBL1203480 in molecule.smi (73/236). Average speed: 0.25 s/mol.\n",
            "Processing CHEMBL1202276 in molecule.smi (74/236). Average speed: 0.25 s/mol.\n",
            "Processing CHEMBL281138 in molecule.smi (76/236). Average speed: 0.24 s/mol.\n",
            "Processing CHEMBL20321 in molecule.smi (75/236). Average speed: 0.25 s/mol.\n",
            "Processing CHEMBL153461 in molecule.smi (77/236). Average speed: 0.25 s/mol.\n",
            "Processing CHEMBL1203505 in molecule.smi (78/236). Average speed: 0.24 s/mol.\n",
            "Processing CHEMBL1203489 in molecule.smi (79/236). Average speed: 0.24 s/mol.\n",
            "Processing CHEMBL109629 in molecule.smi (80/236). Average speed: 0.24 s/mol.\n",
            "Processing CHEMBL20151 in molecule.smi (81/236). Average speed: 0.24 s/mol.\n",
            "Processing CHEMBL1203482 in molecule.smi (82/236). Average speed: 0.24 s/mol.\n",
            "Processing CHEMBL1203522 in molecule.smi (83/236). Average speed: 0.24 s/mol.\n",
            "Processing CHEMBL1203479 in molecule.smi (84/236). Average speed: 0.24 s/mol.\n",
            "Processing CHEMBL1203478 in molecule.smi (85/236). Average speed: 0.24 s/mol.\n",
            "Processing CHEMBL278628 in molecule.smi (86/236). Average speed: 0.24 s/mol.\n",
            "Processing CHEMBL20286 in molecule.smi (87/236). Average speed: 0.24 s/mol.\n",
            "Processing CHEMBL279089 in molecule.smi (88/236). Average speed: 0.23 s/mol.\n",
            "Processing CHEMBL153567 in molecule.smi (89/236). Average speed: 0.23 s/mol.\n",
            "Processing CHEMBL145703 in molecule.smi (91/236). Average speed: 0.23 s/mol.\n",
            "Processing CHEMBL1203501 in molecule.smi (90/236). Average speed: 0.23 s/mol.\n",
            "Processing CHEMBL1202258 in molecule.smi (92/236). Average speed: 0.23 s/mol.\n",
            "Processing CHEMBL153711 in molecule.smi (93/236). Average speed: 0.23 s/mol.\n",
            "Processing CHEMBL1744197 in molecule.smi (95/236). Average speed: 0.23 s/mol.\n",
            "Processing CHEMBL1203503 in molecule.smi (94/236). Average speed: 0.23 s/mol.\n",
            "Processing CHEMBL1203502 in molecule.smi (96/236). Average speed: 0.23 s/mol.\n",
            "Processing CHEMBL1202272 in molecule.smi (97/236). Average speed: 0.23 s/mol.\n",
            "Processing CHEMBL152894 in molecule.smi (99/236). Average speed: 0.22 s/mol.\n",
            "Processing CHEMBL1203513 in molecule.smi (98/236). Average speed: 0.23 s/mol.\n",
            "Processing CHEMBL282226 in molecule.smi (101/236). Average speed: 0.22 s/mol.\n",
            "Processing CHEMBL1203532 in molecule.smi (100/236). Average speed: 0.22 s/mol.\n",
            "Processing CHEMBL20201 in molecule.smi (102/236). Average speed: 0.22 s/mol.\n",
            "Processing CHEMBL282218 in molecule.smi (103/236). Average speed: 0.22 s/mol.\n",
            "Processing CHEMBL1203493 in molecule.smi (105/236). Average speed: 0.22 s/mol.\n",
            "Processing CHEMBL20318 in molecule.smi (104/236). Average speed: 0.22 s/mol.\n",
            "Processing CHEMBL1203509 in molecule.smi (106/236). Average speed: 0.22 s/mol.\n",
            "Processing CHEMBL1237144 in molecule.smi (107/236). Average speed: 0.22 s/mol.\n",
            "Processing CHEMBL19714 in molecule.smi (108/236). Average speed: 0.22 s/mol.\n",
            "Processing CHEMBL1203487 in molecule.smi (110/236). Average speed: 0.22 s/mol.\n",
            "Processing CHEMBL282434 in molecule.smi (109/236). Average speed: 0.22 s/mol.\n",
            "Processing CHEMBL1202282 in molecule.smi (111/236). Average speed: 0.22 s/mol.\n",
            "Processing CHEMBL1202273 in molecule.smi (112/236). Average speed: 0.22 s/mol.\n",
            "Processing CHEMBL1203527 in molecule.smi (113/236). Average speed: 0.22 s/mol.\n",
            "Processing CHEMBL111282 in molecule.smi (115/236). Average speed: 0.22 s/mol.\n",
            "Processing CHEMBL1203472 in molecule.smi (114/236). Average speed: 0.22 s/mol.\n",
            "Processing CHEMBL1203506 in molecule.smi (117/236). Average speed: 0.22 s/mol.\n",
            "Processing CHEMBL279479 in molecule.smi (116/236). Average speed: 0.22 s/mol.\n",
            "Processing CHEMBL320710 in molecule.smi (119/236). Average speed: 0.22 s/mol.\n",
            "Processing CHEMBL1203470 in molecule.smi (118/236). Average speed: 0.22 s/mol.\n",
            "Processing CHEMBL282907 in molecule.smi (120/236). Average speed: 0.22 s/mol.\n",
            "Processing CHEMBL20162 in molecule.smi (121/236). Average speed: 0.22 s/mol.\n",
            "Processing CHEMBL153222 in molecule.smi (122/236). Average speed: 0.22 s/mol.\n",
            "Processing CHEMBL1203491 in molecule.smi (124/236). Average speed: 0.22 s/mol.\n",
            "Processing CHEMBL20315 in molecule.smi (123/236). Average speed: 0.22 s/mol.\n",
            "Processing CHEMBL1744201 in molecule.smi (125/236). Average speed: 0.22 s/mol.\n",
            "Processing CHEMBL149689 in molecule.smi (126/236). Average speed: 0.22 s/mol.\n",
            "Processing CHEMBL20032 in molecule.smi (127/236). Average speed: 0.21 s/mol.\n",
            "Processing CHEMBL416731 in molecule.smi (128/236). Average speed: 0.21 s/mol.\n",
            "Processing CHEMBL323189 in molecule.smi (129/236). Average speed: 0.21 s/mol.\n",
            "Processing CHEMBL279086 in molecule.smi (130/236). Average speed: 0.21 s/mol.\n",
            "Processing CHEMBL1203483 in molecule.smi (132/236). Average speed: 0.21 s/mol.\n",
            "Processing CHEMBL1202264 in molecule.smi (131/236). Average speed: 0.21 s/mol.\n",
            "Processing CHEMBL20535 in molecule.smi (134/236). Average speed: 0.21 s/mol.\n",
            "Processing CHEMBL111351 in molecule.smi (133/236). Average speed: 0.21 s/mol.\n",
            "Processing CHEMBL1744203 in molecule.smi (135/236). Average speed: 0.21 s/mol.\n",
            "Processing CHEMBL1202275 in molecule.smi (136/236). Average speed: 0.21 s/mol.\n",
            "Processing CHEMBL1202267 in molecule.smi (138/236). Average speed: 0.21 s/mol.\n",
            "Processing CHEMBL1202283 in molecule.smi (137/236). Average speed: 0.21 s/mol.\n",
            "Processing CHEMBL2448018 in molecule.smi (139/236). Average speed: 0.21 s/mol.\n",
            "Processing CHEMBL20023 in molecule.smi (140/236). Average speed: 0.21 s/mol.\n",
            "Processing CHEMBL19992 in molecule.smi (141/236). Average speed: 0.21 s/mol.\n",
            "Processing CHEMBL20351 in molecule.smi (143/236). Average speed: 0.21 s/mol.\n",
            "Processing CHEMBL20309 in molecule.smi (142/236). Average speed: 0.21 s/mol.\n",
            "Processing CHEMBL1744210 in molecule.smi (144/236). Average speed: 0.21 s/mol.\n",
            "Processing CHEMBL1203497 in molecule.smi (145/236). Average speed: 0.21 s/mol.\n",
            "Processing CHEMBL1203525 in molecule.smi (146/236). Average speed: 0.21 s/mol.\n",
            "Processing CHEMBL2448020 in molecule.smi (147/236). Average speed: 0.21 s/mol.\n",
            "Processing CHEMBL110960 in molecule.smi (148/236). Average speed: 0.21 s/mol.\n",
            "Processing CHEMBL19577 in molecule.smi (149/236). Average speed: 0.21 s/mol.\n",
            "Processing CHEMBL277680 in molecule.smi (150/236). Average speed: 0.21 s/mol.\n",
            "Processing CHEMBL1202262 in molecule.smi (151/236). Average speed: 0.21 s/mol.\n",
            "Processing CHEMBL293244 in molecule.smi (152/236). Average speed: 0.21 s/mol.\n",
            "Processing CHEMBL45835 in molecule.smi (153/236). Average speed: 0.21 s/mol.\n",
            "Processing CHEMBL64216 in molecule.smi (154/236). Average speed: 0.21 s/mol.\n",
            "Processing CHEMBL137700 in molecule.smi (155/236). Average speed: 0.21 s/mol.\n",
            "Processing CHEMBL137742 in molecule.smi (156/236). Average speed: 0.21 s/mol.\n",
            "Processing CHEMBL296417 in molecule.smi (157/236). Average speed: 0.21 s/mol.\n",
            "Processing CHEMBL296544 in molecule.smi (158/236). Average speed: 0.21 s/mol.\n",
            "Processing CHEMBL136140 in molecule.smi (159/236). Average speed: 0.21 s/mol.\n",
            "Processing CHEMBL296482 in molecule.smi (161/236). Average speed: 0.21 s/mol.\n",
            "Processing CHEMBL43945 in molecule.smi (160/236). Average speed: 0.21 s/mol.\n",
            "Processing CHEMBL137379 in molecule.smi (162/236). Average speed: 0.20 s/mol.\n",
            "Processing CHEMBL46595 in molecule.smi (164/236). Average speed: 0.20 s/mol.\n",
            "Processing CHEMBL47529 in molecule.smi (163/236). Average speed: 0.20 s/mol.\n",
            "Processing CHEMBL1202608 in molecule.smi (166/236). Average speed: 0.20 s/mol.\n",
            "Processing CHEMBL1202673 in molecule.smi (165/236). Average speed: 0.20 s/mol.\n",
            "Processing CHEMBL1202638 in molecule.smi (167/236). Average speed: 0.20 s/mol.\n",
            "Processing CHEMBL1202675 in molecule.smi (169/236). Average speed: 0.20 s/mol.\n",
            "Processing CHEMBL1202640 in molecule.smi (168/236). Average speed: 0.20 s/mol.\n",
            "Processing CHEMBL1202650 in molecule.smi (170/236). Average speed: 0.20 s/mol.\n",
            "Processing CHEMBL1202678 in molecule.smi (171/236). Average speed: 0.20 s/mol.\n",
            "Processing CHEMBL1790041 in molecule.smi (172/236). Average speed: 0.20 s/mol.\n",
            "Processing CHEMBL1202654 in molecule.smi (173/236). Average speed: 0.20 s/mol.\n",
            "Processing CHEMBL1202667 in molecule.smi (174/236). Average speed: 0.21 s/mol.\n",
            "Processing CHEMBL1202614 in molecule.smi (176/236). Average speed: 0.20 s/mol.\n",
            "Processing CHEMBL1202670 in molecule.smi (175/236). Average speed: 0.20 s/mol.\n",
            "Processing CHEMBL1202648 in molecule.smi (178/236). Average speed: 0.20 s/mol.\n",
            "Processing CHEMBL1202665 in molecule.smi (177/236). Average speed: 0.20 s/mol.\n",
            "Processing CHEMBL1202646 in molecule.smi (179/236). Average speed: 0.21 s/mol.\n",
            "Processing CHEMBL50474 in molecule.smi (180/236). Average speed: 0.21 s/mol.\n",
            "Processing CHEMBL30 in molecule.smi (181/236). Average speed: 0.21 s/mol.\n",
            "Processing CHEMBL1202671 in molecule.smi (182/236). Average speed: 0.20 s/mol.\n",
            "Processing CHEMBL1202669 in molecule.smi (183/236). Average speed: 0.21 s/mol.\n",
            "Processing CHEMBL1202681 in molecule.smi (185/236). Average speed: 0.21 s/mol.\n",
            "Processing CHEMBL1202657 in molecule.smi (184/236). Average speed: 0.21 s/mol.\n",
            "Processing CHEMBL1202661 in molecule.smi (186/236). Average speed: 0.21 s/mol.\n",
            "Processing CHEMBL1202672 in molecule.smi (187/236). Average speed: 0.21 s/mol.\n",
            "Processing CHEMBL1202658 in molecule.smi (188/236). Average speed: 0.21 s/mol.\n",
            "Processing CHEMBL1202607 in molecule.smi (189/236). Average speed: 0.21 s/mol.\n",
            "Processing CHEMBL1202660 in molecule.smi (190/236). Average speed: 0.21 s/mol.\n",
            "Processing CHEMBL1202677 in molecule.smi (191/236). Average speed: 0.21 s/mol.\n",
            "Processing CHEMBL1202680 in molecule.smi (192/236). Average speed: 0.21 s/mol.\n",
            "Processing CHEMBL1202676 in molecule.smi (193/236). Average speed: 0.21 s/mol.\n",
            "Processing CHEMBL1202662 in molecule.smi (194/236). Average speed: 0.21 s/mol.\n",
            "Processing CHEMBL1202683 in molecule.smi (195/236). Average speed: 0.21 s/mol.\n",
            "Processing CHEMBL1202674 in molecule.smi (196/236). Average speed: 0.21 s/mol.\n",
            "Processing CHEMBL1202642 in molecule.smi (197/236). Average speed: 0.21 s/mol.\n",
            "Processing CHEMBL300203 in molecule.smi (198/236). Average speed: 0.21 s/mol.\n",
            "Processing CHEMBL1202615 in molecule.smi (199/236). Average speed: 0.21 s/mol.\n",
            "Processing CHEMBL1202666 in molecule.smi (200/236). Average speed: 0.21 s/mol.\n",
            "Processing CHEMBL1202663 in molecule.smi (201/236). Average speed: 0.21 s/mol.\n",
            "Processing CHEMBL1202679 in molecule.smi (202/236). Average speed: 0.21 s/mol.\n",
            "Processing CHEMBL1202655 in molecule.smi (203/236). Average speed: 0.21 s/mol.\n",
            "Processing CHEMBL51198 in molecule.smi (204/236). Average speed: 0.21 s/mol.\n",
            "Processing CHEMBL50136 in molecule.smi (205/236). Average speed: 0.21 s/mol.\n",
            "Processing CHEMBL1202643 in molecule.smi (206/236). Average speed: 0.21 s/mol.\n",
            "Processing CHEMBL1202649 in molecule.smi (207/236). Average speed: 0.21 s/mol.\n",
            "Processing CHEMBL1202641 in molecule.smi (208/236). Average speed: 0.21 s/mol.\n",
            "Processing CHEMBL1202651 in molecule.smi (209/236). Average speed: 0.21 s/mol.\n",
            "Processing CHEMBL1202668 in molecule.smi (210/236). Average speed: 0.21 s/mol.\n",
            "Processing CHEMBL1202656 in molecule.smi (211/236). Average speed: 0.21 s/mol.\n",
            "Processing CHEMBL1202645 in molecule.smi (212/236). Average speed: 0.21 s/mol.\n",
            "Processing CHEMBL1202653 in molecule.smi (213/236). Average speed: 0.21 s/mol.\n",
            "Processing CHEMBL1202647 in molecule.smi (215/236). Average speed: 0.21 s/mol.\n",
            "Processing CHEMBL1202644 in molecule.smi (214/236). Average speed: 0.21 s/mol.\n",
            "Processing CHEMBL1202629 in molecule.smi (217/236). Average speed: 0.21 s/mol.\n",
            "Processing CHEMBL1202682 in molecule.smi (216/236). Average speed: 0.21 s/mol.\n",
            "Processing CHEMBL1202659 in molecule.smi (218/236). Average speed: 0.21 s/mol.\n",
            "Processing CHEMBL1202652 in molecule.smi (219/236). Average speed: 0.21 s/mol.\n",
            "Processing CHEMBL1202621 in molecule.smi (220/236). Average speed: 0.21 s/mol.\n",
            "Processing CHEMBL319824 in molecule.smi (221/236). Average speed: 0.21 s/mol.\n",
            "Processing CHEMBL327717 in molecule.smi (222/236). Average speed: 0.21 s/mol.\n",
            "Processing CHEMBL329044 in molecule.smi (223/236). Average speed: 0.21 s/mol.\n",
            "Processing CHEMBL95140 in molecule.smi (224/236). Average speed: 0.21 s/mol.\n",
            "Processing CHEMBL93552 in molecule.smi (226/236). Average speed: 0.21 s/mol.\n",
            "Processing CHEMBL317568 in molecule.smi (225/236). Average speed: 0.21 s/mol.\n",
            "Processing CHEMBL328181 in molecule.smi (228/236). Average speed: 0.21 s/mol.\n",
            "Processing CHEMBL327627 in molecule.smi (227/236). Average speed: 0.21 s/mol.\n",
            "Processing CHEMBL93661 in molecule.smi (230/236). Average speed: 0.21 s/mol.\n",
            "Processing CHEMBL327592 in molecule.smi (229/236). Average speed: 0.21 s/mol.\n",
            "Processing CHEMBL97122 in molecule.smi (232/236). Average speed: 0.21 s/mol.\n",
            "Processing CHEMBL318468 in molecule.smi (231/236). Average speed: 0.21 s/mol.\n",
            "Processing CHEMBL97334 in molecule.smi (233/236). Average speed: 0.21 s/mol.\n",
            "Processing CHEMBL327653 in molecule.smi (234/236). Average speed: 0.21 s/mol.\n",
            "Processing CHEMBL317569 in molecule.smi (235/236). Average speed: 0.21 s/mol.\n",
            "Processing CHEMBL328883 in molecule.smi (236/236). Average speed: 0.21 s/mol.\n",
            "Descriptor calculation completed in 49.939 secs . Average speed: 0.21 s/mol.\n"
          ]
        }
      ],
      "source": [
        "! bash padel.sh"
      ]
    },
    {
      "cell_type": "code",
      "execution_count": null,
      "metadata": {
        "colab": {
          "base_uri": "https://localhost:8080/"
        },
        "id": "9AmtkwOzvHmu",
        "outputId": "3d5d8e23-b375-42d5-c08b-45e709c1e868"
      },
      "outputs": [
        {
          "name": "stdout",
          "output_type": "stream",
          "text": [
            "total 50800\n",
            "-rw-r--r-- 1 root root   430797 Sep 30 18:43 descriptors_output.csv\n",
            "drwx------ 6 root root     4096 Sep 30 17:01 drive\n",
            "drwxr-xr-x 3 root root     4096 Sep 30 17:15 __MACOSX\n",
            "-rw-r--r-- 1 root root    13466 Sep 30 18:42 molecule.smi\n",
            "drwxrwxr-x 4 root root     4096 May 30  2020 PaDEL-Descriptor\n",
            "-rw-r--r-- 1 root root      231 Sep 30 17:15 padel.sh\n",
            "-rw-r--r-- 1 root root      231 Sep 30 18:42 padel.sh.1\n",
            "-rw-r--r-- 1 root root 25768637 Sep 30 17:15 padel.zip\n",
            "-rw-r--r-- 1 root root 25768637 Sep 30 18:42 padel.zip.1\n",
            "drwxr-xr-x 1 root root     4096 Sep 26 13:45 sample_data\n"
          ]
        }
      ],
      "source": [
        "! ls -l"
      ]
    },
    {
      "cell_type": "markdown",
      "metadata": {
        "id": "0R3UVI9EvRpW"
      },
      "source": [
        "### Preparing Dataset for Machine Learning\n",
        "\n",
        "With PaDEL Descriptors created, we can move to the next step, which is doing machine learning preparations."
      ]
    },
    {
      "cell_type": "code",
      "execution_count": 260,
      "metadata": {
        "colab": {
          "base_uri": "https://localhost:8080/"
        },
        "id": "X65lpTipvdlZ",
        "outputId": "052b0027-47af-4caf-c894-f45b53f1ee31"
      },
      "outputs": [
        {
          "data": {
            "text/plain": [
              "(236, 881)"
            ]
          },
          "execution_count": 260,
          "metadata": {},
          "output_type": "execute_result"
        }
      ],
      "source": [
        "X = pd.read_csv('descriptors_output.csv').drop(columns = ['Name'])\n",
        "X.shape"
      ]
    },
    {
      "cell_type": "markdown",
      "metadata": {
        "id": "r472MRWb4okE"
      },
      "source": [
        "We are going to remove columns that have 80% consitstency in values.WSince the columns only contain boolean values, we can utilize the following formula for the variance threshold: \n",
        "\\begin{equation}\n",
        "  \\text{Var}|X| = p(1-p),\n",
        "\\end{equation}\n",
        "where p is the probability of containing only one varaible. "
      ]
    },
    {
      "cell_type": "code",
      "execution_count": 261,
      "metadata": {
        "colab": {
          "base_uri": "https://localhost:8080/"
        },
        "id": "ljIUrhFn1EMH",
        "outputId": "0cf0a31c-78bc-4111-b7d4-f75b3f5491b6"
      },
      "outputs": [
        {
          "data": {
            "text/plain": [
              "(236, 121)"
            ]
          },
          "execution_count": 261,
          "metadata": {},
          "output_type": "execute_result"
        }
      ],
      "source": [
        "from sklearn.feature_selection import VarianceThreshold\n",
        "selection = VarianceThreshold(threshold = 0.8*(1-0.8) )\n",
        "X = selection.fit_transform(X)\n",
        "X.shape"
      ]
    },
    {
      "cell_type": "markdown",
      "metadata": {
        "id": "i3_7X9XNjcAg"
      },
      "source": [
        "This leaves us with 121 features and 236 molecules. We are going to need to save the column names for our app so we know what features we care about."
      ]
    },
    {
      "cell_type": "code",
      "execution_count": 273,
      "metadata": {
        "id": "ougHIw15Q4Rw"
      },
      "outputs": [],
      "source": [
        "X_df = pd.DataFrame(columns = selection.get_feature_names_out())\n",
        "featurefilepath = \"./drive/MyDrive/GastricActivity/featuredata.csv\"\n",
        "X_df.to_csv(featurefilepath, index = False)"
      ]
    },
    {
      "cell_type": "markdown",
      "metadata": {
        "id": "LaDdtPKlP2OC"
      },
      "source": [
        "As we will see in the next code block, all features are already binary so we do not need to perform any more preprocessing with the features. "
      ]
    },
    {
      "cell_type": "code",
      "execution_count": null,
      "metadata": {
        "colab": {
          "base_uri": "https://localhost:8080/"
        },
        "id": "fWcioDyZi7Hf",
        "outputId": "cbc9e6c4-49f6-4245-caea-b2fe0603e37f"
      },
      "outputs": [
        {
          "data": {
            "text/plain": [
              "array([0, 1])"
            ]
          },
          "execution_count": 125,
          "metadata": {},
          "output_type": "execute_result"
        }
      ],
      "source": [
        "np.unique(X)"
      ]
    },
    {
      "cell_type": "markdown",
      "metadata": {
        "id": "QE2Iu-2VkKu3"
      },
      "source": [
        "The desired output is the pIC50 values. "
      ]
    },
    {
      "cell_type": "code",
      "execution_count": 258,
      "metadata": {
        "colab": {
          "base_uri": "https://localhost:8080/"
        },
        "id": "K1F-t2uZwYQR",
        "outputId": "017bd674-341e-4da1-8e21-2940f5570aa9"
      },
      "outputs": [
        {
          "data": {
            "text/plain": [
              "(236,)"
            ]
          },
          "execution_count": 258,
          "metadata": {},
          "output_type": "execute_result"
        }
      ],
      "source": [
        "Y = df4['pIC50']\n",
        "Y.shape"
      ]
    },
    {
      "cell_type": "code",
      "execution_count": null,
      "metadata": {
        "id": "zNhhYjOk2ffH"
      },
      "outputs": [],
      "source": [
        "from sklearn.model_selection import train_test_split"
      ]
    },
    {
      "cell_type": "code",
      "execution_count": null,
      "metadata": {
        "id": "5ufNxyy80hb6"
      },
      "outputs": [],
      "source": [
        "X_train, X_test, Y_train, Y_test = train_test_split(X, Y, test_size=0.2, random_state = 42)"
      ]
    },
    {
      "cell_type": "markdown",
      "metadata": {
        "id": "Y0Gy_Ax3LFUr"
      },
      "source": [
        "## Exploratory Analysis\n",
        "\n",
        "Before we continue any further, we are going to perform some exploratory analysis with some of the variables. "
      ]
    },
    {
      "cell_type": "code",
      "execution_count": null,
      "metadata": {
        "colab": {
          "base_uri": "https://localhost:8080/"
        },
        "id": "Is8xFqDt2W-n",
        "outputId": "d5159c5f-14dc-45b5-c8aa-34dbb7acf43c"
      },
      "outputs": [
        {
          "data": {
            "text/plain": [
              "Medium    94\n",
              "Low       74\n",
              "High      68\n",
              "Name: Class, dtype: int64"
            ]
          },
          "execution_count": 129,
          "metadata": {},
          "output_type": "execute_result"
        }
      ],
      "source": [
        "conditions = {\n",
        "    \"Low\": df3['standard_value'] < 1000,\n",
        "    \"Medium\": (df3['standard_value'] >= 1000) & (df3['standard_value'] <=10000) ,\n",
        "    \"High\": df3['standard_value'] > 10000\n",
        "}\n",
        "df3['Class'] = np.select(conditions.values(),conditions.keys())\n",
        "\n",
        "df3['Class'].value_counts()"
      ]
    },
    {
      "cell_type": "markdown",
      "metadata": {
        "id": "WMY5mdJF433L"
      },
      "source": [
        "To determine the drug-like qualities of each molecule, we will use Lipinksi's rule of 5, which is a rule of thumb for if a molecule is orally active. With this, there are four criteria: i). No more than 5 hydrogen bond donors, ii). No more than 10 hydrogen bond acceptors, iii). MW of less than 500 Da, and iV). an octanol-water coefficient of less than 5. \n",
        "\n",
        "To do this, we will need to import the RDKit library, a python/c++ library with chemoinformatics information, such as lipinski, for various molecules. "
      ]
    },
    {
      "cell_type": "code",
      "execution_count": null,
      "metadata": {
        "colab": {
          "base_uri": "https://localhost:8080/"
        },
        "id": "-awN5NR6RHIK",
        "outputId": "7282e7f3-1974-406f-b41c-0c9cacf09c10"
      },
      "outputs": [
        {
          "name": "stdout",
          "output_type": "stream",
          "text": [
            "Looking in indexes: https://pypi.org/simple, https://us-python.pkg.dev/colab-wheels/public/simple/\n",
            "Requirement already satisfied: rdkit in /usr/local/lib/python3.7/dist-packages (2022.3.5)\n",
            "Requirement already satisfied: Pillow in /usr/local/lib/python3.7/dist-packages (from rdkit) (7.1.2)\n",
            "Requirement already satisfied: numpy in /usr/local/lib/python3.7/dist-packages (from rdkit) (1.21.6)\n"
          ]
        }
      ],
      "source": [
        "! pip install rdkit"
      ]
    },
    {
      "cell_type": "code",
      "execution_count": null,
      "metadata": {
        "id": "lkzldMcAPuX2"
      },
      "outputs": [],
      "source": [
        "# import numpy and rdkit tools\n",
        "import numpy as np\n",
        "from rdkit import Chem\n",
        "from rdkit.Chem import Descriptors, Lipinski"
      ]
    },
    {
      "cell_type": "code",
      "execution_count": null,
      "metadata": {
        "id": "gKHc_2fbR-DK"
      },
      "outputs": [],
      "source": [
        "def lipinski(smiles):\n",
        "  molecule_data = []\n",
        "\n",
        "  for element in smiles:\n",
        "    molecule = Chem.MolFromSmiles(element)\n",
        "    molecule_data.append(molecule)\n",
        "  \n",
        "  i = 0\n",
        "  molecule_info_df = pd.DataFrame(columns = ['H Donors','H Acceptors','MW','LogP'])\n",
        "\n",
        "  for molecule in molecule_data:\n",
        "    MoleculeHDonors = Chem.Lipinski.NumHDonors(molecule)\n",
        "    MoleculeHAcceptors = Chem.Lipinski.NumHAcceptors(molecule)    \n",
        "    MolecularWeight = Chem.Descriptors.MolWt(molecule)\n",
        "    MolecularLogP = Chem.Descriptors.MolLogP(molecule)\n",
        "\n",
        "    row = pd.Series([MoleculeHDonors, MoleculeHAcceptors,\n",
        "                    MolecularWeight,MolecularLogP], \n",
        "                    index = molecule_info_df.columns)\n",
        "    \n",
        "    molecule_info_df.loc[len(molecule_info_df)] = row\n",
        "\n",
        "\n",
        "\n",
        "  return molecule_info_df "
      ]
    },
    {
      "cell_type": "code",
      "execution_count": null,
      "metadata": {
        "colab": {
          "base_uri": "https://localhost:8080/",
          "height": 424
        },
        "id": "huG7TzHRSKfD",
        "outputId": "e6cc34d0-8624-48ad-9db0-b6b3048eb4d7"
      },
      "outputs": [
        {
          "data": {
            "text/html": [
              "\n",
              "  <div id=\"df-cae1c901-4656-46e5-b76a-9b9a9c8ac228\">\n",
              "    <div class=\"colab-df-container\">\n",
              "      <div>\n",
              "<style scoped>\n",
              "    .dataframe tbody tr th:only-of-type {\n",
              "        vertical-align: middle;\n",
              "    }\n",
              "\n",
              "    .dataframe tbody tr th {\n",
              "        vertical-align: top;\n",
              "    }\n",
              "\n",
              "    .dataframe thead th {\n",
              "        text-align: right;\n",
              "    }\n",
              "</style>\n",
              "<table border=\"1\" class=\"dataframe\">\n",
              "  <thead>\n",
              "    <tr style=\"text-align: right;\">\n",
              "      <th></th>\n",
              "      <th>H Donors</th>\n",
              "      <th>H Acceptors</th>\n",
              "      <th>MW</th>\n",
              "      <th>LogP</th>\n",
              "    </tr>\n",
              "  </thead>\n",
              "  <tbody>\n",
              "    <tr>\n",
              "      <th>0</th>\n",
              "      <td>1.00</td>\n",
              "      <td>4.00</td>\n",
              "      <td>314.45</td>\n",
              "      <td>4.57</td>\n",
              "    </tr>\n",
              "    <tr>\n",
              "      <th>1</th>\n",
              "      <td>1.00</td>\n",
              "      <td>4.00</td>\n",
              "      <td>348.90</td>\n",
              "      <td>5.23</td>\n",
              "    </tr>\n",
              "    <tr>\n",
              "      <th>2</th>\n",
              "      <td>1.00</td>\n",
              "      <td>4.00</td>\n",
              "      <td>312.44</td>\n",
              "      <td>4.65</td>\n",
              "    </tr>\n",
              "    <tr>\n",
              "      <th>3</th>\n",
              "      <td>1.00</td>\n",
              "      <td>4.00</td>\n",
              "      <td>332.44</td>\n",
              "      <td>4.71</td>\n",
              "    </tr>\n",
              "    <tr>\n",
              "      <th>4</th>\n",
              "      <td>1.00</td>\n",
              "      <td>4.00</td>\n",
              "      <td>382.45</td>\n",
              "      <td>5.59</td>\n",
              "    </tr>\n",
              "    <tr>\n",
              "      <th>...</th>\n",
              "      <td>...</td>\n",
              "      <td>...</td>\n",
              "      <td>...</td>\n",
              "      <td>...</td>\n",
              "    </tr>\n",
              "    <tr>\n",
              "      <th>231</th>\n",
              "      <td>1.00</td>\n",
              "      <td>4.00</td>\n",
              "      <td>346.43</td>\n",
              "      <td>5.32</td>\n",
              "    </tr>\n",
              "    <tr>\n",
              "      <th>232</th>\n",
              "      <td>1.00</td>\n",
              "      <td>4.00</td>\n",
              "      <td>336.37</td>\n",
              "      <td>4.13</td>\n",
              "    </tr>\n",
              "    <tr>\n",
              "      <th>233</th>\n",
              "      <td>1.00</td>\n",
              "      <td>3.00</td>\n",
              "      <td>288.35</td>\n",
              "      <td>4.50</td>\n",
              "    </tr>\n",
              "    <tr>\n",
              "      <th>234</th>\n",
              "      <td>1.00</td>\n",
              "      <td>4.00</td>\n",
              "      <td>318.38</td>\n",
              "      <td>3.99</td>\n",
              "    </tr>\n",
              "    <tr>\n",
              "      <th>235</th>\n",
              "      <td>0.00</td>\n",
              "      <td>3.00</td>\n",
              "      <td>320.37</td>\n",
              "      <td>4.94</td>\n",
              "    </tr>\n",
              "  </tbody>\n",
              "</table>\n",
              "<p>236 rows × 4 columns</p>\n",
              "</div>\n",
              "      <button class=\"colab-df-convert\" onclick=\"convertToInteractive('df-cae1c901-4656-46e5-b76a-9b9a9c8ac228')\"\n",
              "              title=\"Convert this dataframe to an interactive table.\"\n",
              "              style=\"display:none;\">\n",
              "        \n",
              "  <svg xmlns=\"http://www.w3.org/2000/svg\" height=\"24px\"viewBox=\"0 0 24 24\"\n",
              "       width=\"24px\">\n",
              "    <path d=\"M0 0h24v24H0V0z\" fill=\"none\"/>\n",
              "    <path d=\"M18.56 5.44l.94 2.06.94-2.06 2.06-.94-2.06-.94-.94-2.06-.94 2.06-2.06.94zm-11 1L8.5 8.5l.94-2.06 2.06-.94-2.06-.94L8.5 2.5l-.94 2.06-2.06.94zm10 10l.94 2.06.94-2.06 2.06-.94-2.06-.94-.94-2.06-.94 2.06-2.06.94z\"/><path d=\"M17.41 7.96l-1.37-1.37c-.4-.4-.92-.59-1.43-.59-.52 0-1.04.2-1.43.59L10.3 9.45l-7.72 7.72c-.78.78-.78 2.05 0 2.83L4 21.41c.39.39.9.59 1.41.59.51 0 1.02-.2 1.41-.59l7.78-7.78 2.81-2.81c.8-.78.8-2.07 0-2.86zM5.41 20L4 18.59l7.72-7.72 1.47 1.35L5.41 20z\"/>\n",
              "  </svg>\n",
              "      </button>\n",
              "      \n",
              "  <style>\n",
              "    .colab-df-container {\n",
              "      display:flex;\n",
              "      flex-wrap:wrap;\n",
              "      gap: 12px;\n",
              "    }\n",
              "\n",
              "    .colab-df-convert {\n",
              "      background-color: #E8F0FE;\n",
              "      border: none;\n",
              "      border-radius: 50%;\n",
              "      cursor: pointer;\n",
              "      display: none;\n",
              "      fill: #1967D2;\n",
              "      height: 32px;\n",
              "      padding: 0 0 0 0;\n",
              "      width: 32px;\n",
              "    }\n",
              "\n",
              "    .colab-df-convert:hover {\n",
              "      background-color: #E2EBFA;\n",
              "      box-shadow: 0px 1px 2px rgba(60, 64, 67, 0.3), 0px 1px 3px 1px rgba(60, 64, 67, 0.15);\n",
              "      fill: #174EA6;\n",
              "    }\n",
              "\n",
              "    [theme=dark] .colab-df-convert {\n",
              "      background-color: #3B4455;\n",
              "      fill: #D2E3FC;\n",
              "    }\n",
              "\n",
              "    [theme=dark] .colab-df-convert:hover {\n",
              "      background-color: #434B5C;\n",
              "      box-shadow: 0px 1px 3px 1px rgba(0, 0, 0, 0.15);\n",
              "      filter: drop-shadow(0px 1px 2px rgba(0, 0, 0, 0.3));\n",
              "      fill: #FFFFFF;\n",
              "    }\n",
              "  </style>\n",
              "\n",
              "      <script>\n",
              "        const buttonEl =\n",
              "          document.querySelector('#df-cae1c901-4656-46e5-b76a-9b9a9c8ac228 button.colab-df-convert');\n",
              "        buttonEl.style.display =\n",
              "          google.colab.kernel.accessAllowed ? 'block' : 'none';\n",
              "\n",
              "        async function convertToInteractive(key) {\n",
              "          const element = document.querySelector('#df-cae1c901-4656-46e5-b76a-9b9a9c8ac228');\n",
              "          const dataTable =\n",
              "            await google.colab.kernel.invokeFunction('convertToInteractive',\n",
              "                                                     [key], {});\n",
              "          if (!dataTable) return;\n",
              "\n",
              "          const docLinkHtml = 'Like what you see? Visit the ' +\n",
              "            '<a target=\"_blank\" href=https://colab.research.google.com/notebooks/data_table.ipynb>data table notebook</a>'\n",
              "            + ' to learn more about interactive tables.';\n",
              "          element.innerHTML = '';\n",
              "          dataTable['output_type'] = 'display_data';\n",
              "          await google.colab.output.renderOutput(dataTable, element);\n",
              "          const docLink = document.createElement('div');\n",
              "          docLink.innerHTML = docLinkHtml;\n",
              "          element.appendChild(docLink);\n",
              "        }\n",
              "      </script>\n",
              "    </div>\n",
              "  </div>\n",
              "  "
            ],
            "text/plain": [
              "     H Donors  H Acceptors     MW  LogP\n",
              "0        1.00         4.00 314.45  4.57\n",
              "1        1.00         4.00 348.90  5.23\n",
              "2        1.00         4.00 312.44  4.65\n",
              "3        1.00         4.00 332.44  4.71\n",
              "4        1.00         4.00 382.45  5.59\n",
              "..        ...          ...    ...   ...\n",
              "231      1.00         4.00 346.43  5.32\n",
              "232      1.00         4.00 336.37  4.13\n",
              "233      1.00         3.00 288.35  4.50\n",
              "234      1.00         4.00 318.38  3.99\n",
              "235      0.00         3.00 320.37  4.94\n",
              "\n",
              "[236 rows x 4 columns]"
            ]
          },
          "execution_count": 133,
          "metadata": {},
          "output_type": "execute_result"
        }
      ],
      "source": [
        "df_lip = lipinski(df4['canonical_smiles'])\n",
        "df_lip"
      ]
    },
    {
      "cell_type": "markdown",
      "metadata": {
        "id": "WP_0pv2QjL3x"
      },
      "source": [
        "Now with the molecular information dataframe, we can concatenate this with the original drug molecule dataframe. "
      ]
    },
    {
      "cell_type": "code",
      "execution_count": null,
      "metadata": {
        "colab": {
          "base_uri": "https://localhost:8080/"
        },
        "id": "9kQS2sk-jLlI",
        "outputId": "651e5e58-3a04-4fe2-81a7-bd72f953776e"
      },
      "outputs": [
        {
          "data": {
            "text/plain": [
              "count   236.00\n",
              "mean      4.08\n",
              "std       1.63\n",
              "min       0.60\n",
              "25%       2.85\n",
              "50%       3.79\n",
              "75%       5.19\n",
              "max       7.96\n",
              "Name: LogP, dtype: float64"
            ]
          },
          "execution_count": 134,
          "metadata": {},
          "output_type": "execute_result"
        }
      ],
      "source": [
        "molecule_df = pd.concat([df4,df_lip], axis = 1)\n",
        "molecule_df['LogP'].describe()"
      ]
    },
    {
      "cell_type": "markdown",
      "metadata": {
        "id": "lHAeglgbBke0"
      },
      "source": [
        "## Determining the Best Machine Learning Algorithm\n",
        "\n",
        "There are various regression algorithms and methods that can be used, including random forest algorithms, support vector regression, and linear regression. One way to figure out which is the best way is to quickly test and see which one functions the best under basic conditions! Lazypredict is a library that provides a method to test multiple regression models at the same time. "
      ]
    },
    {
      "cell_type": "code",
      "execution_count": null,
      "metadata": {
        "colab": {
          "base_uri": "https://localhost:8080/"
        },
        "id": "OoV8RZlKBm0O",
        "outputId": "d8547e48-9c4c-4795-8f28-8239e2a65bff"
      },
      "outputs": [
        {
          "name": "stdout",
          "output_type": "stream",
          "text": [
            "Looking in indexes: https://pypi.org/simple, https://us-python.pkg.dev/colab-wheels/public/simple/\n",
            "Collecting lazypredict\n",
            "  Downloading lazypredict-0.2.12-py2.py3-none-any.whl (12 kB)\n",
            "Requirement already satisfied: lightgbm in /usr/local/lib/python3.7/dist-packages (from lazypredict) (2.2.3)\n",
            "Requirement already satisfied: click in /usr/local/lib/python3.7/dist-packages (from lazypredict) (7.1.2)\n",
            "Requirement already satisfied: joblib in /usr/local/lib/python3.7/dist-packages (from lazypredict) (1.1.0)\n",
            "Requirement already satisfied: scikit-learn in /usr/local/lib/python3.7/dist-packages (from lazypredict) (1.0.2)\n",
            "Requirement already satisfied: xgboost in /usr/local/lib/python3.7/dist-packages (from lazypredict) (0.90)\n",
            "Requirement already satisfied: tqdm in /usr/local/lib/python3.7/dist-packages (from lazypredict) (4.64.1)\n",
            "Requirement already satisfied: pandas in /usr/local/lib/python3.7/dist-packages (from lazypredict) (1.3.5)\n",
            "Requirement already satisfied: numpy in /usr/local/lib/python3.7/dist-packages (from lightgbm->lazypredict) (1.21.6)\n",
            "Requirement already satisfied: scipy in /usr/local/lib/python3.7/dist-packages (from lightgbm->lazypredict) (1.7.3)\n",
            "Requirement already satisfied: pytz>=2017.3 in /usr/local/lib/python3.7/dist-packages (from pandas->lazypredict) (2022.2.1)\n",
            "Requirement already satisfied: python-dateutil>=2.7.3 in /usr/local/lib/python3.7/dist-packages (from pandas->lazypredict) (2.8.2)\n",
            "Requirement already satisfied: six>=1.5 in /usr/local/lib/python3.7/dist-packages (from python-dateutil>=2.7.3->pandas->lazypredict) (1.15.0)\n",
            "Requirement already satisfied: threadpoolctl>=2.0.0 in /usr/local/lib/python3.7/dist-packages (from scikit-learn->lazypredict) (3.1.0)\n",
            "Installing collected packages: lazypredict\n",
            "Successfully installed lazypredict-0.2.12\n"
          ]
        }
      ],
      "source": [
        "! pip install lazypredict"
      ]
    },
    {
      "cell_type": "code",
      "execution_count": null,
      "metadata": {
        "id": "FNL0odcxBv-9"
      },
      "outputs": [],
      "source": [
        "import lazypredict\n",
        "from lazypredict.Supervised import LazyRegressor"
      ]
    },
    {
      "cell_type": "code",
      "execution_count": null,
      "metadata": {
        "colab": {
          "base_uri": "https://localhost:8080/"
        },
        "id": "yMIzYUGLCG9p",
        "outputId": "8715e879-17ba-42ab-a928-7c41e4a1f9c7"
      },
      "outputs": [
        {
          "name": "stderr",
          "output_type": "stream",
          "text": [
            "100%|██████████| 42/42 [00:08<00:00,  4.72it/s]"
          ]
        },
        {
          "name": "stdout",
          "output_type": "stream",
          "text": [
            "[18:44:29] WARNING: /workspace/src/objective/regression_obj.cu:152: reg:linear is now deprecated in favor of reg:squarederror.\n"
          ]
        },
        {
          "name": "stderr",
          "output_type": "stream",
          "text": [
            "\n"
          ]
        }
      ],
      "source": [
        "reg = LazyRegressor(verbose=0,ignore_warnings=True, custom_metric=None)\n",
        "models, predictions = reg.fit(X_train, X_test, Y_train, Y_test)"
      ]
    },
    {
      "cell_type": "code",
      "execution_count": null,
      "metadata": {
        "colab": {
          "base_uri": "https://localhost:8080/",
          "height": 1000
        },
        "id": "4_eJtxwuSpMg",
        "outputId": "428b56b8-6f07-4ca1-ed35-439c7b819b36"
      },
      "outputs": [
        {
          "data": {
            "text/html": [
              "\n",
              "  <div id=\"df-b2c975c1-ef67-450c-8b3a-8eb53df56f6b\">\n",
              "    <div class=\"colab-df-container\">\n",
              "      <div>\n",
              "<style scoped>\n",
              "    .dataframe tbody tr th:only-of-type {\n",
              "        vertical-align: middle;\n",
              "    }\n",
              "\n",
              "    .dataframe tbody tr th {\n",
              "        vertical-align: top;\n",
              "    }\n",
              "\n",
              "    .dataframe thead th {\n",
              "        text-align: right;\n",
              "    }\n",
              "</style>\n",
              "<table border=\"1\" class=\"dataframe\">\n",
              "  <thead>\n",
              "    <tr style=\"text-align: right;\">\n",
              "      <th></th>\n",
              "      <th>Adjusted R-Squared</th>\n",
              "      <th>R-Squared</th>\n",
              "      <th>RMSE</th>\n",
              "      <th>Time Taken</th>\n",
              "    </tr>\n",
              "    <tr>\n",
              "      <th>Model</th>\n",
              "      <th></th>\n",
              "      <th></th>\n",
              "      <th></th>\n",
              "      <th></th>\n",
              "    </tr>\n",
              "  </thead>\n",
              "  <tbody>\n",
              "    <tr>\n",
              "      <th>RANSACRegressor</th>\n",
              "      <td>14471381270519221321728.00</td>\n",
              "      <td>-22784727957838776762368.00</td>\n",
              "      <td>136397792665.42</td>\n",
              "      <td>0.41</td>\n",
              "    </tr>\n",
              "    <tr>\n",
              "      <th>LinearRegression</th>\n",
              "      <td>13797288192812139937792.00</td>\n",
              "      <td>-21723389920597837348864.00</td>\n",
              "      <td>133183129969.62</td>\n",
              "      <td>0.02</td>\n",
              "    </tr>\n",
              "    <tr>\n",
              "      <th>TransformedTargetRegressor</th>\n",
              "      <td>13797288192812139937792.00</td>\n",
              "      <td>-21723389920597837348864.00</td>\n",
              "      <td>133183129969.62</td>\n",
              "      <td>0.03</td>\n",
              "    </tr>\n",
              "    <tr>\n",
              "      <th>Lars</th>\n",
              "      <td>1297718658986816569344.00</td>\n",
              "      <td>-2043216612021796601856.00</td>\n",
              "      <td>40845350184.09</td>\n",
              "      <td>0.08</td>\n",
              "    </tr>\n",
              "    <tr>\n",
              "      <th>KernelRidge</th>\n",
              "      <td>6.95</td>\n",
              "      <td>-8.36</td>\n",
              "      <td>2.76</td>\n",
              "      <td>0.02</td>\n",
              "    </tr>\n",
              "    <tr>\n",
              "      <th>GaussianProcessRegressor</th>\n",
              "      <td>3.61</td>\n",
              "      <td>-3.10</td>\n",
              "      <td>1.83</td>\n",
              "      <td>0.03</td>\n",
              "    </tr>\n",
              "    <tr>\n",
              "      <th>QuantileRegressor</th>\n",
              "      <td>1.65</td>\n",
              "      <td>-0.03</td>\n",
              "      <td>0.92</td>\n",
              "      <td>0.50</td>\n",
              "    </tr>\n",
              "    <tr>\n",
              "      <th>LassoLars</th>\n",
              "      <td>1.64</td>\n",
              "      <td>-0.01</td>\n",
              "      <td>0.91</td>\n",
              "      <td>0.02</td>\n",
              "    </tr>\n",
              "    <tr>\n",
              "      <th>Lasso</th>\n",
              "      <td>1.64</td>\n",
              "      <td>-0.01</td>\n",
              "      <td>0.91</td>\n",
              "      <td>0.02</td>\n",
              "    </tr>\n",
              "    <tr>\n",
              "      <th>DummyRegressor</th>\n",
              "      <td>1.64</td>\n",
              "      <td>-0.01</td>\n",
              "      <td>0.91</td>\n",
              "      <td>0.02</td>\n",
              "    </tr>\n",
              "    <tr>\n",
              "      <th>ElasticNet</th>\n",
              "      <td>1.63</td>\n",
              "      <td>0.01</td>\n",
              "      <td>0.90</td>\n",
              "      <td>0.02</td>\n",
              "    </tr>\n",
              "    <tr>\n",
              "      <th>DecisionTreeRegressor</th>\n",
              "      <td>1.54</td>\n",
              "      <td>0.15</td>\n",
              "      <td>0.83</td>\n",
              "      <td>0.02</td>\n",
              "    </tr>\n",
              "    <tr>\n",
              "      <th>ExtraTreeRegressor</th>\n",
              "      <td>1.51</td>\n",
              "      <td>0.20</td>\n",
              "      <td>0.81</td>\n",
              "      <td>0.02</td>\n",
              "    </tr>\n",
              "    <tr>\n",
              "      <th>ExtraTreesRegressor</th>\n",
              "      <td>1.49</td>\n",
              "      <td>0.22</td>\n",
              "      <td>0.80</td>\n",
              "      <td>0.32</td>\n",
              "    </tr>\n",
              "    <tr>\n",
              "      <th>HuberRegressor</th>\n",
              "      <td>1.42</td>\n",
              "      <td>0.34</td>\n",
              "      <td>0.74</td>\n",
              "      <td>0.08</td>\n",
              "    </tr>\n",
              "    <tr>\n",
              "      <th>LinearSVR</th>\n",
              "      <td>1.40</td>\n",
              "      <td>0.37</td>\n",
              "      <td>0.72</td>\n",
              "      <td>0.07</td>\n",
              "    </tr>\n",
              "    <tr>\n",
              "      <th>LarsCV</th>\n",
              "      <td>1.40</td>\n",
              "      <td>0.38</td>\n",
              "      <td>0.71</td>\n",
              "      <td>0.22</td>\n",
              "    </tr>\n",
              "    <tr>\n",
              "      <th>PassiveAggressiveRegressor</th>\n",
              "      <td>1.39</td>\n",
              "      <td>0.38</td>\n",
              "      <td>0.71</td>\n",
              "      <td>0.02</td>\n",
              "    </tr>\n",
              "    <tr>\n",
              "      <th>LassoLarsIC</th>\n",
              "      <td>1.39</td>\n",
              "      <td>0.39</td>\n",
              "      <td>0.71</td>\n",
              "      <td>0.03</td>\n",
              "    </tr>\n",
              "    <tr>\n",
              "      <th>Ridge</th>\n",
              "      <td>1.39</td>\n",
              "      <td>0.39</td>\n",
              "      <td>0.70</td>\n",
              "      <td>0.01</td>\n",
              "    </tr>\n",
              "    <tr>\n",
              "      <th>LassoLarsCV</th>\n",
              "      <td>1.38</td>\n",
              "      <td>0.40</td>\n",
              "      <td>0.70</td>\n",
              "      <td>0.09</td>\n",
              "    </tr>\n",
              "    <tr>\n",
              "      <th>MLPRegressor</th>\n",
              "      <td>1.38</td>\n",
              "      <td>0.40</td>\n",
              "      <td>0.70</td>\n",
              "      <td>0.44</td>\n",
              "    </tr>\n",
              "    <tr>\n",
              "      <th>GammaRegressor</th>\n",
              "      <td>1.38</td>\n",
              "      <td>0.40</td>\n",
              "      <td>0.70</td>\n",
              "      <td>0.03</td>\n",
              "    </tr>\n",
              "    <tr>\n",
              "      <th>ElasticNetCV</th>\n",
              "      <td>1.38</td>\n",
              "      <td>0.41</td>\n",
              "      <td>0.69</td>\n",
              "      <td>3.32</td>\n",
              "    </tr>\n",
              "    <tr>\n",
              "      <th>LassoCV</th>\n",
              "      <td>1.37</td>\n",
              "      <td>0.41</td>\n",
              "      <td>0.69</td>\n",
              "      <td>1.68</td>\n",
              "    </tr>\n",
              "    <tr>\n",
              "      <th>OrthogonalMatchingPursuitCV</th>\n",
              "      <td>1.37</td>\n",
              "      <td>0.41</td>\n",
              "      <td>0.69</td>\n",
              "      <td>0.03</td>\n",
              "    </tr>\n",
              "    <tr>\n",
              "      <th>TweedieRegressor</th>\n",
              "      <td>1.37</td>\n",
              "      <td>0.42</td>\n",
              "      <td>0.69</td>\n",
              "      <td>0.03</td>\n",
              "    </tr>\n",
              "    <tr>\n",
              "      <th>GradientBoostingRegressor</th>\n",
              "      <td>1.36</td>\n",
              "      <td>0.43</td>\n",
              "      <td>0.68</td>\n",
              "      <td>0.15</td>\n",
              "    </tr>\n",
              "    <tr>\n",
              "      <th>PoissonRegressor</th>\n",
              "      <td>1.36</td>\n",
              "      <td>0.44</td>\n",
              "      <td>0.68</td>\n",
              "      <td>0.03</td>\n",
              "    </tr>\n",
              "    <tr>\n",
              "      <th>OrthogonalMatchingPursuit</th>\n",
              "      <td>1.36</td>\n",
              "      <td>0.44</td>\n",
              "      <td>0.68</td>\n",
              "      <td>0.02</td>\n",
              "    </tr>\n",
              "    <tr>\n",
              "      <th>BaggingRegressor</th>\n",
              "      <td>1.35</td>\n",
              "      <td>0.44</td>\n",
              "      <td>0.67</td>\n",
              "      <td>0.05</td>\n",
              "    </tr>\n",
              "    <tr>\n",
              "      <th>BayesianRidge</th>\n",
              "      <td>1.35</td>\n",
              "      <td>0.45</td>\n",
              "      <td>0.67</td>\n",
              "      <td>0.03</td>\n",
              "    </tr>\n",
              "    <tr>\n",
              "      <th>SGDRegressor</th>\n",
              "      <td>1.34</td>\n",
              "      <td>0.46</td>\n",
              "      <td>0.66</td>\n",
              "      <td>0.02</td>\n",
              "    </tr>\n",
              "    <tr>\n",
              "      <th>RidgeCV</th>\n",
              "      <td>1.33</td>\n",
              "      <td>0.48</td>\n",
              "      <td>0.65</td>\n",
              "      <td>0.03</td>\n",
              "    </tr>\n",
              "    <tr>\n",
              "      <th>XGBRegressor</th>\n",
              "      <td>1.33</td>\n",
              "      <td>0.49</td>\n",
              "      <td>0.65</td>\n",
              "      <td>0.13</td>\n",
              "    </tr>\n",
              "    <tr>\n",
              "      <th>RandomForestRegressor</th>\n",
              "      <td>1.32</td>\n",
              "      <td>0.49</td>\n",
              "      <td>0.64</td>\n",
              "      <td>0.33</td>\n",
              "    </tr>\n",
              "    <tr>\n",
              "      <th>AdaBoostRegressor</th>\n",
              "      <td>1.31</td>\n",
              "      <td>0.51</td>\n",
              "      <td>0.63</td>\n",
              "      <td>0.11</td>\n",
              "    </tr>\n",
              "    <tr>\n",
              "      <th>LGBMRegressor</th>\n",
              "      <td>1.31</td>\n",
              "      <td>0.51</td>\n",
              "      <td>0.63</td>\n",
              "      <td>0.04</td>\n",
              "    </tr>\n",
              "    <tr>\n",
              "      <th>HistGradientBoostingRegressor</th>\n",
              "      <td>1.31</td>\n",
              "      <td>0.51</td>\n",
              "      <td>0.63</td>\n",
              "      <td>0.23</td>\n",
              "    </tr>\n",
              "    <tr>\n",
              "      <th>SVR</th>\n",
              "      <td>1.29</td>\n",
              "      <td>0.54</td>\n",
              "      <td>0.61</td>\n",
              "      <td>0.03</td>\n",
              "    </tr>\n",
              "    <tr>\n",
              "      <th>NuSVR</th>\n",
              "      <td>1.28</td>\n",
              "      <td>0.55</td>\n",
              "      <td>0.60</td>\n",
              "      <td>0.03</td>\n",
              "    </tr>\n",
              "    <tr>\n",
              "      <th>KNeighborsRegressor</th>\n",
              "      <td>1.28</td>\n",
              "      <td>0.56</td>\n",
              "      <td>0.60</td>\n",
              "      <td>0.02</td>\n",
              "    </tr>\n",
              "  </tbody>\n",
              "</table>\n",
              "</div>\n",
              "      <button class=\"colab-df-convert\" onclick=\"convertToInteractive('df-b2c975c1-ef67-450c-8b3a-8eb53df56f6b')\"\n",
              "              title=\"Convert this dataframe to an interactive table.\"\n",
              "              style=\"display:none;\">\n",
              "        \n",
              "  <svg xmlns=\"http://www.w3.org/2000/svg\" height=\"24px\"viewBox=\"0 0 24 24\"\n",
              "       width=\"24px\">\n",
              "    <path d=\"M0 0h24v24H0V0z\" fill=\"none\"/>\n",
              "    <path d=\"M18.56 5.44l.94 2.06.94-2.06 2.06-.94-2.06-.94-.94-2.06-.94 2.06-2.06.94zm-11 1L8.5 8.5l.94-2.06 2.06-.94-2.06-.94L8.5 2.5l-.94 2.06-2.06.94zm10 10l.94 2.06.94-2.06 2.06-.94-2.06-.94-.94-2.06-.94 2.06-2.06.94z\"/><path d=\"M17.41 7.96l-1.37-1.37c-.4-.4-.92-.59-1.43-.59-.52 0-1.04.2-1.43.59L10.3 9.45l-7.72 7.72c-.78.78-.78 2.05 0 2.83L4 21.41c.39.39.9.59 1.41.59.51 0 1.02-.2 1.41-.59l7.78-7.78 2.81-2.81c.8-.78.8-2.07 0-2.86zM5.41 20L4 18.59l7.72-7.72 1.47 1.35L5.41 20z\"/>\n",
              "  </svg>\n",
              "      </button>\n",
              "      \n",
              "  <style>\n",
              "    .colab-df-container {\n",
              "      display:flex;\n",
              "      flex-wrap:wrap;\n",
              "      gap: 12px;\n",
              "    }\n",
              "\n",
              "    .colab-df-convert {\n",
              "      background-color: #E8F0FE;\n",
              "      border: none;\n",
              "      border-radius: 50%;\n",
              "      cursor: pointer;\n",
              "      display: none;\n",
              "      fill: #1967D2;\n",
              "      height: 32px;\n",
              "      padding: 0 0 0 0;\n",
              "      width: 32px;\n",
              "    }\n",
              "\n",
              "    .colab-df-convert:hover {\n",
              "      background-color: #E2EBFA;\n",
              "      box-shadow: 0px 1px 2px rgba(60, 64, 67, 0.3), 0px 1px 3px 1px rgba(60, 64, 67, 0.15);\n",
              "      fill: #174EA6;\n",
              "    }\n",
              "\n",
              "    [theme=dark] .colab-df-convert {\n",
              "      background-color: #3B4455;\n",
              "      fill: #D2E3FC;\n",
              "    }\n",
              "\n",
              "    [theme=dark] .colab-df-convert:hover {\n",
              "      background-color: #434B5C;\n",
              "      box-shadow: 0px 1px 3px 1px rgba(0, 0, 0, 0.15);\n",
              "      filter: drop-shadow(0px 1px 2px rgba(0, 0, 0, 0.3));\n",
              "      fill: #FFFFFF;\n",
              "    }\n",
              "  </style>\n",
              "\n",
              "      <script>\n",
              "        const buttonEl =\n",
              "          document.querySelector('#df-b2c975c1-ef67-450c-8b3a-8eb53df56f6b button.colab-df-convert');\n",
              "        buttonEl.style.display =\n",
              "          google.colab.kernel.accessAllowed ? 'block' : 'none';\n",
              "\n",
              "        async function convertToInteractive(key) {\n",
              "          const element = document.querySelector('#df-b2c975c1-ef67-450c-8b3a-8eb53df56f6b');\n",
              "          const dataTable =\n",
              "            await google.colab.kernel.invokeFunction('convertToInteractive',\n",
              "                                                     [key], {});\n",
              "          if (!dataTable) return;\n",
              "\n",
              "          const docLinkHtml = 'Like what you see? Visit the ' +\n",
              "            '<a target=\"_blank\" href=https://colab.research.google.com/notebooks/data_table.ipynb>data table notebook</a>'\n",
              "            + ' to learn more about interactive tables.';\n",
              "          element.innerHTML = '';\n",
              "          dataTable['output_type'] = 'display_data';\n",
              "          await google.colab.output.renderOutput(dataTable, element);\n",
              "          const docLink = document.createElement('div');\n",
              "          docLink.innerHTML = docLinkHtml;\n",
              "          element.appendChild(docLink);\n",
              "        }\n",
              "      </script>\n",
              "    </div>\n",
              "  </div>\n",
              "  "
            ],
            "text/plain": [
              "                                      Adjusted R-Squared  \\\n",
              "Model                                                      \n",
              "RANSACRegressor               14471381270519221321728.00   \n",
              "LinearRegression              13797288192812139937792.00   \n",
              "TransformedTargetRegressor    13797288192812139937792.00   \n",
              "Lars                           1297718658986816569344.00   \n",
              "KernelRidge                                         6.95   \n",
              "GaussianProcessRegressor                            3.61   \n",
              "QuantileRegressor                                   1.65   \n",
              "LassoLars                                           1.64   \n",
              "Lasso                                               1.64   \n",
              "DummyRegressor                                      1.64   \n",
              "ElasticNet                                          1.63   \n",
              "DecisionTreeRegressor                               1.54   \n",
              "ExtraTreeRegressor                                  1.51   \n",
              "ExtraTreesRegressor                                 1.49   \n",
              "HuberRegressor                                      1.42   \n",
              "LinearSVR                                           1.40   \n",
              "LarsCV                                              1.40   \n",
              "PassiveAggressiveRegressor                          1.39   \n",
              "LassoLarsIC                                         1.39   \n",
              "Ridge                                               1.39   \n",
              "LassoLarsCV                                         1.38   \n",
              "MLPRegressor                                        1.38   \n",
              "GammaRegressor                                      1.38   \n",
              "ElasticNetCV                                        1.38   \n",
              "LassoCV                                             1.37   \n",
              "OrthogonalMatchingPursuitCV                         1.37   \n",
              "TweedieRegressor                                    1.37   \n",
              "GradientBoostingRegressor                           1.36   \n",
              "PoissonRegressor                                    1.36   \n",
              "OrthogonalMatchingPursuit                           1.36   \n",
              "BaggingRegressor                                    1.35   \n",
              "BayesianRidge                                       1.35   \n",
              "SGDRegressor                                        1.34   \n",
              "RidgeCV                                             1.33   \n",
              "XGBRegressor                                        1.33   \n",
              "RandomForestRegressor                               1.32   \n",
              "AdaBoostRegressor                                   1.31   \n",
              "LGBMRegressor                                       1.31   \n",
              "HistGradientBoostingRegressor                       1.31   \n",
              "SVR                                                 1.29   \n",
              "NuSVR                                               1.28   \n",
              "KNeighborsRegressor                                 1.28   \n",
              "\n",
              "                                                R-Squared            RMSE  \\\n",
              "Model                                                                       \n",
              "RANSACRegressor               -22784727957838776762368.00 136397792665.42   \n",
              "LinearRegression              -21723389920597837348864.00 133183129969.62   \n",
              "TransformedTargetRegressor    -21723389920597837348864.00 133183129969.62   \n",
              "Lars                           -2043216612021796601856.00  40845350184.09   \n",
              "KernelRidge                                         -8.36            2.76   \n",
              "GaussianProcessRegressor                            -3.10            1.83   \n",
              "QuantileRegressor                                   -0.03            0.92   \n",
              "LassoLars                                           -0.01            0.91   \n",
              "Lasso                                               -0.01            0.91   \n",
              "DummyRegressor                                      -0.01            0.91   \n",
              "ElasticNet                                           0.01            0.90   \n",
              "DecisionTreeRegressor                                0.15            0.83   \n",
              "ExtraTreeRegressor                                   0.20            0.81   \n",
              "ExtraTreesRegressor                                  0.22            0.80   \n",
              "HuberRegressor                                       0.34            0.74   \n",
              "LinearSVR                                            0.37            0.72   \n",
              "LarsCV                                               0.38            0.71   \n",
              "PassiveAggressiveRegressor                           0.38            0.71   \n",
              "LassoLarsIC                                          0.39            0.71   \n",
              "Ridge                                                0.39            0.70   \n",
              "LassoLarsCV                                          0.40            0.70   \n",
              "MLPRegressor                                         0.40            0.70   \n",
              "GammaRegressor                                       0.40            0.70   \n",
              "ElasticNetCV                                         0.41            0.69   \n",
              "LassoCV                                              0.41            0.69   \n",
              "OrthogonalMatchingPursuitCV                          0.41            0.69   \n",
              "TweedieRegressor                                     0.42            0.69   \n",
              "GradientBoostingRegressor                            0.43            0.68   \n",
              "PoissonRegressor                                     0.44            0.68   \n",
              "OrthogonalMatchingPursuit                            0.44            0.68   \n",
              "BaggingRegressor                                     0.44            0.67   \n",
              "BayesianRidge                                        0.45            0.67   \n",
              "SGDRegressor                                         0.46            0.66   \n",
              "RidgeCV                                              0.48            0.65   \n",
              "XGBRegressor                                         0.49            0.65   \n",
              "RandomForestRegressor                                0.49            0.64   \n",
              "AdaBoostRegressor                                    0.51            0.63   \n",
              "LGBMRegressor                                        0.51            0.63   \n",
              "HistGradientBoostingRegressor                        0.51            0.63   \n",
              "SVR                                                  0.54            0.61   \n",
              "NuSVR                                                0.55            0.60   \n",
              "KNeighborsRegressor                                  0.56            0.60   \n",
              "\n",
              "                               Time Taken  \n",
              "Model                                      \n",
              "RANSACRegressor                      0.41  \n",
              "LinearRegression                     0.02  \n",
              "TransformedTargetRegressor           0.03  \n",
              "Lars                                 0.08  \n",
              "KernelRidge                          0.02  \n",
              "GaussianProcessRegressor             0.03  \n",
              "QuantileRegressor                    0.50  \n",
              "LassoLars                            0.02  \n",
              "Lasso                                0.02  \n",
              "DummyRegressor                       0.02  \n",
              "ElasticNet                           0.02  \n",
              "DecisionTreeRegressor                0.02  \n",
              "ExtraTreeRegressor                   0.02  \n",
              "ExtraTreesRegressor                  0.32  \n",
              "HuberRegressor                       0.08  \n",
              "LinearSVR                            0.07  \n",
              "LarsCV                               0.22  \n",
              "PassiveAggressiveRegressor           0.02  \n",
              "LassoLarsIC                          0.03  \n",
              "Ridge                                0.01  \n",
              "LassoLarsCV                          0.09  \n",
              "MLPRegressor                         0.44  \n",
              "GammaRegressor                       0.03  \n",
              "ElasticNetCV                         3.32  \n",
              "LassoCV                              1.68  \n",
              "OrthogonalMatchingPursuitCV          0.03  \n",
              "TweedieRegressor                     0.03  \n",
              "GradientBoostingRegressor            0.15  \n",
              "PoissonRegressor                     0.03  \n",
              "OrthogonalMatchingPursuit            0.02  \n",
              "BaggingRegressor                     0.05  \n",
              "BayesianRidge                        0.03  \n",
              "SGDRegressor                         0.02  \n",
              "RidgeCV                              0.03  \n",
              "XGBRegressor                         0.13  \n",
              "RandomForestRegressor                0.33  \n",
              "AdaBoostRegressor                    0.11  \n",
              "LGBMRegressor                        0.04  \n",
              "HistGradientBoostingRegressor        0.23  \n",
              "SVR                                  0.03  \n",
              "NuSVR                                0.03  \n",
              "KNeighborsRegressor                  0.02  "
            ]
          },
          "execution_count": 137,
          "metadata": {},
          "output_type": "execute_result"
        }
      ],
      "source": [
        "models"
      ]
    },
    {
      "cell_type": "markdown",
      "metadata": {
        "id": "Y1tQOVLE8BR6"
      },
      "source": [
        "As we can see in the table above, some models perform really poorly and have a negative $R^2$ value. We will have to fix this when graphing and simply make those $R^2$ values equal to 0. "
      ]
    },
    {
      "cell_type": "code",
      "execution_count": null,
      "metadata": {
        "id": "tITauLQ83vPc"
      },
      "outputs": [],
      "source": [
        "import seaborn as sns\n",
        "import matplotlib.pyplot as plt"
      ]
    },
    {
      "cell_type": "code",
      "execution_count": null,
      "metadata": {
        "colab": {
          "base_uri": "https://localhost:8080/",
          "height": 624
        },
        "id": "gW6T_td2OLDc",
        "outputId": "f8b20a08-31d0-4c6a-ae2b-7b8b643055d0"
      },
      "outputs": [
        {
          "data": {
            "text/plain": [
              "[(0.0, 1.0)]"
            ]
          },
          "execution_count": 139,
          "metadata": {},
          "output_type": "execute_result"
        },
        {
          "data": {
            "image/png": "[encoded data removed]",
            "text/plain": [
              "<Figure size 360x720 with 1 Axes>"
            ]
          },
          "metadata": {
            "needs_background": "light"
          },
          "output_type": "display_data"
        }
      ],
      "source": [
        "models[\"R-Squared\"] = [0 if i < 0 else i for i in models.loc[:,\"R-Squared\"]]\n",
        "\n",
        "plt.figure(figsize = (5,10))\n",
        "result = sns.barplot(x = \"R-Squared\", y = predictions.index, data = predictions)\n",
        "result.set(xlim = (0,1)) "
      ]
    },
    {
      "cell_type": "markdown",
      "metadata": {
        "id": "_h6Nk7aE8kwy"
      },
      "source": [
        "As we can see in the above graph, the k-nearest neighbors regression model was the most accurate at an R^2 value of 0.56. This is not too great, but is expected with the limited amount of inhibition data we have for this protein.  "
      ]
    },
    {
      "cell_type": "markdown",
      "metadata": {
        "id": "-9vXxpefPZaL"
      },
      "source": [
        "## Best Performing Model - K-Nearest Neighbors\n",
        "\n",
        "With LazyPredictor showing that gradient boosting for regression, under default parameters, is the best performing model, we are going to try and hyperparameterize this model. To find the right parameters, we are going to utilize sklearn's GridSearchCV function. "
      ]
    },
    {
      "cell_type": "code",
      "execution_count": 281,
      "metadata": {
        "id": "2FtOgky6I0Bc"
      },
      "outputs": [],
      "source": [
        "from sklearn.neighbors import KNeighborsRegressor\n",
        "from sklearn.model_selection import GridSearchCV\n",
        "import pickle"
      ]
    },
    {
      "cell_type": "code",
      "execution_count": 283,
      "metadata": {
        "colab": {
          "base_uri": "https://localhost:8080/"
        },
        "id": "UO4nY0F7J7-f",
        "outputId": "1a7f69f8-51de-4c2e-fe8b-79356a3be439"
      },
      "outputs": [
        {
          "name": "stdout",
          "output_type": "stream",
          "text": [
            "Fitting 3 folds for each of 21952 candidates, totalling 65856 fits\n",
            "{'algorithm': 'kd_tree', 'leaf_size': 5, 'metric': 'euclidean', 'n_neighbors': 6, 'p': 1, 'weights': 'uniform'}\n"
          ]
        }
      ],
      "source": [
        "# grid parameters to go through and options to choose from\n",
        "grid_params = {\n",
        "    'n_neighbors': list(range(1,15)),\n",
        "    'weights' : ['uniform','distance'],\n",
        "    'metric' : ['euclidean', 'manhattan','cosine','minkowski'],\n",
        "    'leaf_size' : list(range(1,50)), \n",
        "    'p' : [1,2], \n",
        "    'algorithm' :  ['ball_tree','kd_tree']\n",
        "}\n",
        "\n",
        "# grid search function\n",
        "gs = GridSearchCV(KNeighborsRegressor(), grid_params, scoring = 'r2', verbose = 1, cv = 3)\n",
        "\n",
        "# fitting potential parameters to the model\n",
        "gs_result = gs.fit(X, Y)\n",
        "\n",
        "# best parameters\n",
        "print(gs_result.best_params_)"
      ]
    },
    {
      "cell_type": "code",
      "execution_count": 288,
      "metadata": {
        "id": "2E0I6UFdJHqK"
      },
      "outputs": [],
      "source": [
        "knn = KNeighborsRegressor(n_neighbors = 6, algorithm = 'kd_tree', leaf_size = 5, metric = 'euclidean')\n",
        "knn.fit(X_train, Y_train)\n",
        "Y_pred = knn.predict(X_test)"
      ]
    },
    {
      "cell_type": "code",
      "execution_count": 289,
      "metadata": {
        "colab": {
          "base_uri": "https://localhost:8080/"
        },
        "id": "1JJvo9PChlMH",
        "outputId": "966da334-ec33-40d7-f39b-0e5dd6c9eea3"
      },
      "outputs": [
        {
          "name": "stdout",
          "output_type": "stream",
          "text": [
            "R-Squared:  0.5912312683937833\n",
            "Mean Absolute Error:  0.46288260295212513\n",
            "Mean Squared Error:  0.33377092639911243\n",
            "Mean Absolute Percentage Error:  22.39095260383438 percent\n"
          ]
        }
      ],
      "source": [
        "from sklearn.metrics import mean_absolute_error\n",
        "from sklearn.metrics import mean_squared_error\n",
        "knn_r2 = knn.score(X_test, Y_test)\n",
        "rows, cols = X_test.shape\n",
        "knn_adjr2 = 1-((1-knn_r2)*(rows-1))/(rows-cols-1)\n",
        "print('R-Squared: ', knn_r2)\n",
        "print('Mean Absolute Error: ', mean_absolute_error(Y_test, Y_pred))\n",
        "print('Mean Squared Error: ', mean_squared_error(Y_test,Y_pred))\n",
        "mape = np.mean(np.abs((Y_test - Y_pred) / np.abs(Y_test)))\n",
        "print('Mean Absolute Percentage Error: ', mape*100, \"percent\")"
      ]
    },
    {
      "cell_type": "code",
      "execution_count": 290,
      "metadata": {
        "colab": {
          "base_uri": "https://localhost:8080/",
          "height": 312
        },
        "id": "CU9MxmLhwE9s",
        "outputId": "fa79d00d-340b-4ea9-a73c-015cc94f4817"
      },
      "outputs": [
        {
          "data": {
            "text/plain": [
              "<function matplotlib.pyplot.show(*args, **kw)>"
            ]
          },
          "execution_count": 290,
          "metadata": {},
          "output_type": "execute_result"
        },
        {
          "data": {
            "image/png": "[encoded data removed]",
            "text/plain": [
              "<Figure size 432x288 with 1 Axes>"
            ]
          },
          "metadata": {
            "needs_background": "light"
          },
          "output_type": "display_data"
        }
      ],
      "source": [
        "result = sns.regplot(x = Y_test,y = Y_pred)\n",
        "result.set_xlabel('Experimental pIC50')\n",
        "result.set_ylabel('Predicted pIC50')\n",
        "result.set_title('Experimental v. Predicted Values')\n",
        "plt.show"
      ]
    },
    {
      "cell_type": "markdown",
      "metadata": {
        "id": "PuuSy7t0yYWD"
      },
      "source": [
        "Since we know this is the best performing method under these parameters, we are going to save this model to create an interactive app."
      ]
    },
    {
      "cell_type": "code",
      "execution_count": 291,
      "metadata": {
        "id": "PxhRc1L1q8FO"
      },
      "outputs": [],
      "source": [
        "pickle.dump(knn, open('./drive/MyDrive/GastricActivity/gastricactivity_knn_model.pkl','wb'))"
      ]
    }
  ],
  "metadata": {
    "colab": {
      "collapsed_sections": [],
      "provenance": []
    },
    "kernelspec": {
      "display_name": "Python 3.8.10 ('GastricActivity-venv': venv)",
      "language": "python",
      "name": "python3"
    },
    "language_info": {
      "name": "python",
      "version": "3.8.10"
    },
    "vscode": {
      "interpreter": {
        "hash": "d9625a07b6bf10135d6742c0a3d661f6092ecf72958c225291af8295169b0b87"
      }
    }
  },
  "nbformat": 4,
  "nbformat_minor": 0
}
